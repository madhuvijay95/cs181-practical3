{
 "cells": [
  {
   "cell_type": "code",
   "execution_count": 102,
   "metadata": {
    "collapsed": false
   },
   "outputs": [
    {
     "name": "stdout",
     "output_type": "stream",
     "text": [
      " 3323843.2\n"
     ]
    }
   ],
   "source": [
    "import numpy as np\n",
    "import csv\n",
    "import pandas as pd\n",
    "from sklearn.cross_validation import train_test_split\n",
    "import math\n",
    "\n",
    "train_file = 'train.csv'\n",
    "test_file  = 'test.csv'\n",
    "soln_file  = 'user_median.csv'\n",
    "\n",
    "train_size = .8\n",
    "K = 40\n",
    "learn_rate = 0.0000001\n",
    "iterations = 10\n",
    "w = .8\n",
    "\n",
    "\n",
    "#load CSV\n",
    "train_data = {}\n",
    "test_data = {}\n",
    "ndata = 0\n",
    "with open(train_file, 'r') as train_fh:\n",
    "    ndata = sum(1 for row in train_fh) - 1\n",
    "    \n",
    "splitting = np.random.binomial(1, train_size, size=ndata)\n",
    "print ndata*train_size\n"
   ]
  },
  {
   "cell_type": "code",
   "execution_count": 103,
   "metadata": {
    "collapsed": false
   },
   "outputs": [
    {
     "name": "stdout",
     "output_type": "stream",
     "text": [
      "118.0\n"
     ]
    }
   ],
   "source": [
    "\n",
    "with open(train_file, 'r') as train_fh:\n",
    "    train_csv = csv.reader(train_fh, delimiter=',', quotechar='\"')\n",
    "    next(train_csv, None)\n",
    "    \n",
    "    for i, row, in enumerate(train_csv):\n",
    "        user   = row[0]\n",
    "        artist = row[1]\n",
    "        plays  = row[2]\n",
    "\n",
    "        if splitting[i]: \n",
    "            if not user in train_data:\n",
    "                train_data[user] = {}\n",
    "            train_data[user][artist] = int(plays)\n",
    "            \n",
    "        else:\n",
    "            if not user in test_data:\n",
    "                test_data[user] = {}\n",
    "\n",
    "            test_data[user][artist] = int(plays)\n",
    "              \n",
    "# Compute the global median and per-user median.\n",
    "plays_array  = []\n",
    "user_medians = {}\n",
    "for user, user_data in train_data.iteritems():\n",
    "    user_plays = []\n",
    "    for artist, plays in user_data.iteritems():\n",
    "        plays_array.append(plays)\n",
    "        user_plays.append(plays)\n",
    "\n",
    "    user_medians[user] = np.median(np.array(user_plays))\n",
    "global_median = np.median(np.array(plays_array))\n",
    "print global_median"
   ]
  },
  {
   "cell_type": "code",
   "execution_count": 104,
   "metadata": {
    "collapsed": false
   },
   "outputs": [
    {
     "name": "stdout",
     "output_type": "stream",
     "text": [
      "[ 1.7175564  1.7175564  1.7175564  1.7175564  1.7175564  1.7175564\n",
      "  1.7175564  1.7175564  1.7175564  1.7175564  1.7175564  1.7175564\n",
      "  1.7175564  1.7175564  1.7175564  1.7175564  1.7175564  1.7175564\n",
      "  1.7175564  1.7175564  1.7175564  1.7175564  1.7175564  1.7175564\n",
      "  1.7175564  1.7175564  1.7175564  1.7175564  1.7175564  1.7175564\n",
      "  1.7175564  1.7175564  1.7175564  1.7175564  1.7175564  1.7175564\n",
      "  1.7175564  1.7175564  1.7175564  1.7175564]\n"
     ]
    }
   ],
   "source": [
    "user_feats = {}\n",
    "artist_feats = {}\n",
    "\n",
    "\n",
    "init = np.array(K * [math.sqrt(float(global_median)/K)])\n",
    "\n",
    "\n",
    "artist_plays = {}\n",
    "for user, user_data in train_data.iteritems():\n",
    "    if not user in user_feats:\n",
    "        user_feats[user] = init\n",
    "    for artist, plays in user_data.iteritems():\n",
    "        if not artist in artist_plays:\n",
    "            artist_plays[artist] = []\n",
    "        artist_plays[artist].append(plays)\n",
    "        if not artist in artist_feats:\n",
    "            artist_feats[artist] = init\n",
    " "
   ]
  },
  {
   "cell_type": "code",
   "execution_count": 105,
   "metadata": {
    "collapsed": false
   },
   "outputs": [],
   "source": [
    "x = artist_feats.keys()[1]\n",
    "\n",
    "y = artist_plays[x]\n",
    "\n",
    "            \n",
    "artist_meds = {}\n",
    "for artist in artist_plays.keys():\n",
    "    artist_meds[artist] = np.median(np.array(artist_plays[artist]))\n",
    "\n",
    " "
   ]
  },
  {
   "cell_type": "code",
   "execution_count": null,
   "metadata": {
    "collapsed": false
   },
   "outputs": [],
   "source": [
    "\n"
   ]
  },
  {
   "cell_type": "code",
   "execution_count": 106,
   "metadata": {
    "collapsed": false
   },
   "outputs": [
    {
     "name": "stdout",
     "output_type": "stream",
     "text": [
      "218.5\n"
     ]
    }
   ],
   "source": [
    "i = 7\n",
    "test_artist = artist_feats.keys()[i]\n",
    "\n",
    "print artist_meds[test_artist]\n"
   ]
  },
  {
   "cell_type": "code",
   "execution_count": 107,
   "metadata": {
    "collapsed": false
   },
   "outputs": [
    {
     "name": "stdout",
     "output_type": "stream",
     "text": [
      "233000 9\n"
     ]
    }
   ],
   "source": [
    "def predict_plays(user, artist):\n",
    "    if (not user in user_feats) or (not artist in artist_feats):\n",
    "        return global_median\n",
    "    else:\n",
    "        return np.dot(np.array(user_feats[user]), np.array(artist_feats[artist]))\n",
    "\n",
    "    \n",
    "def modify_prediction(user, artist, prediction):\n",
    "    user_bias = global_median - user_medians[user]\n",
    "    \n",
    "    return w*prediction + (1-w)*(artist_meds[artist] + user_bias)\n",
    "\n",
    "def train(data):\n",
    "    i = 0\n",
    "    \n",
    "    for k in range(iterations):\n",
    "        for j, (user, user_data) in enumerate(train_data.iteritems()):\n",
    "            if j % 1000 == 0:\n",
    "                print \"\\r\", j,k,\n",
    "\n",
    "            for artist, plays in user_data.iteritems(): \n",
    "                \n",
    "                pred = predict_plays(user,artist)\n",
    "                error = int(plays) - pred\n",
    "\n",
    "                artist_feats[artist] += learn_rate*error*user_feats[user]\n",
    "                user_feats[user] +=  learn_rate*error*artist_feats[artist]  \n",
    "\n",
    "train(train_data)"
   ]
  },
  {
   "cell_type": "code",
   "execution_count": 108,
   "metadata": {
    "collapsed": false
   },
   "outputs": [
    {
     "name": "stdout",
     "output_type": "stream",
     "text": [
      "226000 239.090919168\n"
     ]
    }
   ],
   "source": [
    "def dumb_check(data):\n",
    "    errors = []\n",
    "    pred = 0\n",
    "    for j, (user, user_data) in enumerate(data.iteritems()):\n",
    "        if j % 1000 == 0:\n",
    "            print \"\\r\", j,\n",
    "        for artist, plays in user_data.iteritems():\n",
    "                pred = predict_plays(user,artist)\n",
    "                \n",
    "                newpred = modify_prediction(user,artist,pred)\n",
    "            \n",
    "      \n",
    "                error = abs(int(plays) - newpred)\n",
    "                \n",
    "                errors.append(error)\n",
    "               \n",
    "                \n",
    "    return sum(np.array(errors))/len(errors)\n",
    "                \n",
    "print dumb_check(test_data)\n",
    "\n",
    "\n"
   ]
  },
  {
   "cell_type": "code",
   "execution_count": null,
   "metadata": {
    "collapsed": false
   },
   "outputs": [],
   "source": []
  },
  {
   "cell_type": "code",
   "execution_count": 109,
   "metadata": {
    "collapsed": false
   },
   "outputs": [],
   "source": []
  }
 ],
 "metadata": {
  "kernelspec": {
   "display_name": "Python 2",
   "language": "python",
   "name": "python2"
  },
  "language_info": {
   "codemirror_mode": {
    "name": "ipython",
    "version": 2
   },
   "file_extension": ".py",
   "mimetype": "text/x-python",
   "name": "python",
   "nbconvert_exporter": "python",
   "pygments_lexer": "ipython2",
   "version": "2.7.11"
  }
 },
 "nbformat": 4,
 "nbformat_minor": 0
}

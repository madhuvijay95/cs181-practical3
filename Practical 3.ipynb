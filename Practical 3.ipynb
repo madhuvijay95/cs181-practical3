{
 "cells": [
  {
   "cell_type": "code",
   "execution_count": 90,
   "metadata": {
    "collapsed": false
   },
   "outputs": [],
   "source": [
    "#params = []\n",
    "#params.append([\"train_size\", \"K\", \"learn_rate\", \"iterations\", \"w\", \"error\"])"
   ]
  },
  {
   "cell_type": "code",
   "execution_count": 91,
   "metadata": {
    "collapsed": false
   },
   "outputs": [
    {
     "name": "stdout",
     "output_type": "stream",
     "text": [
      "\n"
     ]
    }
   ],
   "source": [
    "import numpy as np\n",
    "import csv\n",
    "import math\n",
    "\n",
    "train_file = 'train.csv'\n",
    "test_file  = 'test.csv'\n",
    "soln_file  = 'user_median.csv'\n",
    "\n",
    "train_size = .9\n",
    "K = 100\n",
    "learn_rate = 0.000001\n",
    "iterations = 1\n",
    "w = .2\n",
    "weight_user_median = .9\n",
    "penalty = .02\n",
    "\n",
    "\n",
    "#load CSV\n",
    "train_data = {}\n",
    "test_data = {}\n",
    "ndata = 0\n",
    "with open(train_file, 'r') as train_fh:\n",
    "    ndata = sum(1 for row in train_fh) - 1\n",
    "    \n",
    "splitting = np.random.binomial(1, train_size, size=ndata)\n"
   ]
  },
  {
   "cell_type": "code",
   "execution_count": 92,
   "metadata": {
    "collapsed": false
   },
   "outputs": [],
   "source": [
    "\n",
    "with open(train_file, 'r') as train_fh:\n",
    "    train_csv = csv.reader(train_fh, delimiter=',', quotechar='\"')\n",
    "    next(train_csv, None)\n",
    "    \n",
    "    for i, row, in enumerate(train_csv):\n",
    "        user   = row[0]\n",
    "        artist = row[1]\n",
    "        plays  = row[2]\n",
    "\n",
    "        if splitting[i]: \n",
    "            if not user in train_data:\n",
    "                train_data[user] = {}\n",
    "            train_data[user][artist] = int(plays)\n",
    "            \n",
    "        else:\n",
    "            if not user in test_data:\n",
    "                test_data[user] = {}\n",
    "\n",
    "            test_data[user][artist] = int(plays)\n",
    "              \n",
    "# Compute the global median and per-user median.\n",
    "plays_array  = []\n",
    "user_medians = {}\n",
    "for user, user_data in train_data.iteritems():\n",
    "    user_plays = []\n",
    "    for artist, plays in user_data.iteritems():\n",
    "        plays_array.append(plays)\n",
    "        user_plays.append(plays)\n",
    "\n",
    "    user_medians[user] = np.median(np.array(user_plays))\n",
    "global_median = np.median(np.array(plays_array))"
   ]
  },
  {
   "cell_type": "code",
   "execution_count": 93,
   "metadata": {
    "collapsed": false
   },
   "outputs": [],
   "source": [
    "user_feats = {}\n",
    "artist_feats = {}\n",
    "\n",
    "\n",
    "init = np.array(K * [math.sqrt(float(global_median)/K)])\n",
    "\n",
    "artist_plays = {}\n",
    "for user, user_data in train_data.iteritems():\n",
    "    if not user in user_feats:\n",
    "        user_feats[user] = init\n",
    "    for artist, plays in user_data.iteritems():\n",
    "        if not artist in artist_plays:\n",
    "            artist_plays[artist] = []\n",
    "        artist_plays[artist].append(plays)\n",
    "        if not artist in artist_feats:\n",
    "            artist_feats[artist] = init\n",
    " "
   ]
  },
  {
   "cell_type": "code",
   "execution_count": 94,
   "metadata": {
    "collapsed": false
   },
   "outputs": [],
   "source": [
    "artist_meds = {}\n",
    "for artist in artist_plays.keys():\n",
    "    artist_meds[artist] = np.median(np.array(artist_plays[artist]))\n",
    "\n",
    " "
   ]
  },
  {
   "cell_type": "code",
   "execution_count": 95,
   "metadata": {
    "collapsed": false
   },
   "outputs": [
    {
     "name": "stdout",
     "output_type": "stream",
     "text": [
      "209.0\n"
     ]
    }
   ],
   "source": [
    "i = 7\n",
    "test_artist = artist_feats.keys()[i]\n",
    "\n",
    "print artist_meds[test_artist]\n"
   ]
  },
  {
   "cell_type": "code",
   "execution_count": 96,
   "metadata": {
    "collapsed": false
   },
   "outputs": [
    {
     "name": "stdout",
     "output_type": "stream",
     "text": [
      "230000 0\n"
     ]
    }
   ],
   "source": [
    "weight_user_median = .9\n",
    "\n",
    "def predict_plays(user, artist):\n",
    "    if (not user in user_feats) or (not artist in artist_feats):\n",
    "        return global_median\n",
    "    else:\n",
    "        return np.dot(np.array(user_feats[user]), np.array(artist_feats[artist]))\n",
    "\n",
    "    \n",
    "def modify_prediction(user, artist, prediction):\n",
    "    user_bias = user_medians[user] - global_median\n",
    "    return w*prediction + (1-w)*(artist_meds[artist] + user_bias)\n",
    "\n",
    "def modify_prediction2(user, artist, prediction):\n",
    "    return (1 - weight_user_median)*prediction + weight_user_median*(user_medians[user])\n",
    "\n",
    "def train(data):\n",
    "    i = 0\n",
    "    \n",
    "    for k in range(iterations):\n",
    "        for j, (user, user_data) in enumerate(train_data.iteritems()):\n",
    "            if j % 10000 == 0:\n",
    "                print \"\\r\", j,k,\n",
    "\n",
    "            for artist, plays in user_data.iteritems(): \n",
    "                \n",
    "                pred = predict_plays(user,artist)\n",
    "                error = int(plays) - pred\n",
    "\n",
    "                artist_feats[artist] += learn_rate*(error*user_feats[user] - penalty * artist_feats[artist])\n",
    "                user_feats[user] +=  learn_rate*(error*artist_feats[artist] - penalty * user_feats[user])\n",
    "\n",
    "train(train_data)"
   ]
  },
  {
   "cell_type": "code",
   "execution_count": 97,
   "metadata": {
    "collapsed": false
   },
   "outputs": [
    {
     "name": "stdout",
     "output_type": "stream",
     "text": [
      "361.0\n",
      "193000 Error:  143.223388553\n"
     ]
    }
   ],
   "source": [
    "print user_medians[user_feats.keys()[1]]\n",
    "\n",
    "\n",
    "\n",
    "def calc_error(data):\n",
    "    errors = []\n",
    "    pred = 0\n",
    "    for j, (user, user_data) in enumerate(data.iteritems()):\n",
    "        if j % 1000 == 0:\n",
    "            print \"\\r\", j,\n",
    "        for artist, plays in user_data.iteritems():\n",
    "                pred = predict_plays(user,artist)\n",
    "                \n",
    "                newpred = modify_prediction(user,artist,pred)\n",
    "                error = abs(int(plays) - newpred)\n",
    "                errors.append(error)\n",
    "               \n",
    "                \n",
    "    return sum(np.array(errors))/len(errors)\n",
    "                \n",
    "error = calc_error(test_data)\n",
    "\n",
    "print \"Error: \", error"
   ]
  },
  {
   "cell_type": "code",
   "execution_count": 102,
   "metadata": {
    "collapsed": false
   },
   "outputs": [
    {
     "name": "stdout",
     "output_type": "stream",
     "text": [
      "190000 Error:  (143.22338855320115, 139.53333622088593)\n"
     ]
    }
   ],
   "source": [
    "\n",
    "def calc_error(data):\n",
    "    errors = []\n",
    "    errors2 = []\n",
    "    pred = 0\n",
    "    for j, (user, user_data) in enumerate(data.iteritems()):\n",
    "        if j % 10000 == 0:\n",
    "            print \"\\r\", j,\n",
    "        for artist, plays in user_data.iteritems():\n",
    "            pred = predict_plays(user,artist)\n",
    "                \n",
    "            newpred = modify_prediction(user,artist,pred)\n",
    "            error = abs(int(plays) - newpred)\n",
    "            errors.append(error)\n",
    "\n",
    "            newpred2 = modify_prediction2(user,artist,pred)\n",
    "            error2 = abs(int(plays) - newpred2)\n",
    "            errors2.append(error2)\n",
    "\n",
    "\n",
    "    return (sum(np.array(errors))/len(errors), sum(np.array(errors2))/len(errors2))\n",
    "        \n",
    "error = calc_error(test_data)\n",
    "\n",
    "print \"Error: \", error\n"
   ]
  },
  {
   "cell_type": "code",
   "execution_count": 103,
   "metadata": {
    "collapsed": false
   },
   "outputs": [],
   "source": [
    "params.append([train_size, K, learn_rate, iterations, w, weight_user_median, penalty, error])"
   ]
  },
  {
   "cell_type": "code",
   "execution_count": 104,
   "metadata": {
    "collapsed": false
   },
   "outputs": [
    {
     "name": "stdout",
     "output_type": "stream",
     "text": [
      "[['train_size', 'K', 'learn_rate', 'iterations', 'w', 'error'], [0.9, 100, 1e-06, 10, 0.1, (141.20002311812974, 140.09672290114969)], [0.9, 100, 1e-05, 10, 0.1, (141.93318932550011, 140.61400537502971)], [0.9, 100, 0.0001, 10, 0.1, (nan, nan)], [0.9, 100, 1e-06, 10, 0.1, (140.5000839421362, 139.19937042024716)], [0.9, 100, 1e-06, 10, 0.1, (140.81387087540361, 139.51881098451238)], [0.9, 100, 1e-06, 10, 0.1, 0.03, (140.81387087540361, 139.51881098451238)], [0.9, 100, 1e-06, 1, 0.2, 0.9, 0.02, 143.22338855320115], [0.9, 100, 1e-06, 1, 0.2, 0.9, 0.02, (143.22338855320115, 139.53333622088593)]]\n"
     ]
    }
   ],
   "source": [
    "print params"
   ]
  },
  {
   "cell_type": "code",
   "execution_count": null,
   "metadata": {
    "collapsed": false
   },
   "outputs": [],
   "source": []
  },
  {
   "cell_type": "code",
   "execution_count": null,
   "metadata": {
    "collapsed": true
   },
   "outputs": [],
   "source": []
  }
 ],
 "metadata": {
  "kernelspec": {
   "display_name": "Python 2",
   "language": "python",
   "name": "python2"
  },
  "language_info": {
   "codemirror_mode": {
    "name": "ipython",
    "version": 2
   },
   "file_extension": ".py",
   "mimetype": "text/x-python",
   "name": "python",
   "nbconvert_exporter": "python",
   "pygments_lexer": "ipython2",
   "version": "2.7.11"
  }
 },
 "nbformat": 4,
 "nbformat_minor": 0
}

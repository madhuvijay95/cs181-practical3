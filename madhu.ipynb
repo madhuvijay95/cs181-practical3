{
 "cells": [
  {
   "cell_type": "code",
   "execution_count": 285,
   "metadata": {
    "collapsed": true
   },
   "outputs": [],
   "source": [
    "%matplotlib inline\n",
    "import pandas as pd\n",
    "import numpy as np\n",
    "import matplotlib.pyplot as plt\n",
    "from scipy import sparse\n",
    "import cPickle as pickle\n",
    "import bottleneck as bn"
   ]
  },
  {
   "cell_type": "code",
   "execution_count": 2,
   "metadata": {
    "collapsed": false
   },
   "outputs": [
    {
     "name": "stdout",
     "output_type": "stream",
     "text": [
      "Wall time: 16.9 s\n"
     ]
    }
   ],
   "source": [
    "%%time\n",
    "train_df = pd.read_csv('train.csv')\n",
    "artist_df = pd.read_csv('artists.csv')\n",
    "profile_df = pd.read_csv('profiles.csv')"
   ]
  },
  {
   "cell_type": "code",
   "execution_count": 3,
   "metadata": {
    "collapsed": false
   },
   "outputs": [],
   "source": [
    "profile_df.set_index('user', inplace=True)"
   ]
  },
  {
   "cell_type": "code",
   "execution_count": 4,
   "metadata": {
    "collapsed": false
   },
   "outputs": [
    {
     "name": "stdout",
     "output_type": "stream",
     "text": [
      "(233286, 3)\n"
     ]
    },
    {
     "data": {
      "text/html": [
       "<div>\n",
       "<table border=\"1\" class=\"dataframe\">\n",
       "  <thead>\n",
       "    <tr style=\"text-align: right;\">\n",
       "      <th></th>\n",
       "      <th>sex</th>\n",
       "      <th>age</th>\n",
       "      <th>country</th>\n",
       "    </tr>\n",
       "    <tr>\n",
       "      <th>user</th>\n",
       "      <th></th>\n",
       "      <th></th>\n",
       "      <th></th>\n",
       "    </tr>\n",
       "  </thead>\n",
       "  <tbody>\n",
       "    <tr>\n",
       "      <th>fa40b43298ba3f8aa52e8e8863faf2e2171e0b5d</th>\n",
       "      <td>f</td>\n",
       "      <td>25</td>\n",
       "      <td>Sweden</td>\n",
       "    </tr>\n",
       "    <tr>\n",
       "      <th>5909125332c108365a26ccf0ee62636eee08215c</th>\n",
       "      <td>m</td>\n",
       "      <td>29</td>\n",
       "      <td>Iceland</td>\n",
       "    </tr>\n",
       "    <tr>\n",
       "      <th>d1867cbda35e0d48e9a8390d9f5e079c9d99ea96</th>\n",
       "      <td>m</td>\n",
       "      <td>30</td>\n",
       "      <td>United States</td>\n",
       "    </tr>\n",
       "    <tr>\n",
       "      <th>63268cce0d68127729890c1691f62d5be5abd87c</th>\n",
       "      <td>m</td>\n",
       "      <td>21</td>\n",
       "      <td>Germany</td>\n",
       "    </tr>\n",
       "    <tr>\n",
       "      <th>02871cd952d607ba69b64e2e107773012c708113</th>\n",
       "      <td>m</td>\n",
       "      <td>24</td>\n",
       "      <td>Netherlands</td>\n",
       "    </tr>\n",
       "  </tbody>\n",
       "</table>\n",
       "</div>"
      ],
      "text/plain": [
       "                                         sex  age        country\n",
       "user                                                            \n",
       "fa40b43298ba3f8aa52e8e8863faf2e2171e0b5d   f   25         Sweden\n",
       "5909125332c108365a26ccf0ee62636eee08215c   m   29        Iceland\n",
       "d1867cbda35e0d48e9a8390d9f5e079c9d99ea96   m   30  United States\n",
       "63268cce0d68127729890c1691f62d5be5abd87c   m   21        Germany\n",
       "02871cd952d607ba69b64e2e107773012c708113   m   24    Netherlands"
      ]
     },
     "execution_count": 4,
     "metadata": {},
     "output_type": "execute_result"
    }
   ],
   "source": [
    "print profile_df.shape\n",
    "profile_df.head()"
   ]
  },
  {
   "cell_type": "code",
   "execution_count": 5,
   "metadata": {
    "collapsed": false
   },
   "outputs": [
    {
     "name": "stdout",
     "output_type": "stream",
     "text": [
      "(233286, 13)\n",
      "Wall time: 197 ms\n"
     ]
    }
   ],
   "source": [
    "%%time\n",
    "for k in range(10):\n",
    "    profile_df[str(10*k) + 's'] = ((profile_df.age >= 10*k) & (profile_df.age < 10*k+10)).astype(int)\n",
    "print profile_df.shape"
   ]
  },
  {
   "cell_type": "code",
   "execution_count": 6,
   "metadata": {
    "collapsed": false
   },
   "outputs": [
    {
     "name": "stdout",
     "output_type": "stream",
     "text": [
      "Wall time: 3.3 s\n"
     ]
    }
   ],
   "source": [
    "%%time\n",
    "profile_df = pd.concat([profile_df, pd.get_dummies(profile_df.sex)], axis=1)\n",
    "profile_df = pd.concat([profile_df, pd.get_dummies(profile_df.age)], axis=1)\n",
    "profile_df = pd.concat([profile_df, pd.get_dummies(profile_df.country)], axis=1)"
   ]
  },
  {
   "cell_type": "code",
   "execution_count": 7,
   "metadata": {
    "collapsed": true
   },
   "outputs": [],
   "source": [
    "del profile_df['sex']\n",
    "del profile_df['age']\n",
    "del profile_df['country']"
   ]
  },
  {
   "cell_type": "code",
   "execution_count": 8,
   "metadata": {
    "collapsed": false
   },
   "outputs": [
    {
     "name": "stdout",
     "output_type": "stream",
     "text": [
      "(233286, 364)\n"
     ]
    },
    {
     "data": {
      "text/html": [
       "<div>\n",
       "<table border=\"1\" class=\"dataframe\">\n",
       "  <thead>\n",
       "    <tr style=\"text-align: right;\">\n",
       "      <th></th>\n",
       "      <th>0s</th>\n",
       "      <th>10s</th>\n",
       "      <th>20s</th>\n",
       "      <th>30s</th>\n",
       "      <th>40s</th>\n",
       "      <th>50s</th>\n",
       "      <th>60s</th>\n",
       "      <th>70s</th>\n",
       "      <th>80s</th>\n",
       "      <th>90s</th>\n",
       "      <th>...</th>\n",
       "      <th>Vanuatu</th>\n",
       "      <th>Venezuela</th>\n",
       "      <th>Viet Nam</th>\n",
       "      <th>Virgin Islands, British</th>\n",
       "      <th>Virgin Islands, U.s.</th>\n",
       "      <th>Wallis and Futuna</th>\n",
       "      <th>Western Sahara</th>\n",
       "      <th>Yemen</th>\n",
       "      <th>Zambia</th>\n",
       "      <th>Zimbabwe</th>\n",
       "    </tr>\n",
       "    <tr>\n",
       "      <th>user</th>\n",
       "      <th></th>\n",
       "      <th></th>\n",
       "      <th></th>\n",
       "      <th></th>\n",
       "      <th></th>\n",
       "      <th></th>\n",
       "      <th></th>\n",
       "      <th></th>\n",
       "      <th></th>\n",
       "      <th></th>\n",
       "      <th></th>\n",
       "      <th></th>\n",
       "      <th></th>\n",
       "      <th></th>\n",
       "      <th></th>\n",
       "      <th></th>\n",
       "      <th></th>\n",
       "      <th></th>\n",
       "      <th></th>\n",
       "      <th></th>\n",
       "      <th></th>\n",
       "    </tr>\n",
       "  </thead>\n",
       "  <tbody>\n",
       "    <tr>\n",
       "      <th>fa40b43298ba3f8aa52e8e8863faf2e2171e0b5d</th>\n",
       "      <td>0</td>\n",
       "      <td>0</td>\n",
       "      <td>1</td>\n",
       "      <td>0</td>\n",
       "      <td>0</td>\n",
       "      <td>0</td>\n",
       "      <td>0</td>\n",
       "      <td>0</td>\n",
       "      <td>0</td>\n",
       "      <td>0</td>\n",
       "      <td>...</td>\n",
       "      <td>0</td>\n",
       "      <td>0</td>\n",
       "      <td>0</td>\n",
       "      <td>0</td>\n",
       "      <td>0</td>\n",
       "      <td>0</td>\n",
       "      <td>0</td>\n",
       "      <td>0</td>\n",
       "      <td>0</td>\n",
       "      <td>0</td>\n",
       "    </tr>\n",
       "    <tr>\n",
       "      <th>5909125332c108365a26ccf0ee62636eee08215c</th>\n",
       "      <td>0</td>\n",
       "      <td>0</td>\n",
       "      <td>1</td>\n",
       "      <td>0</td>\n",
       "      <td>0</td>\n",
       "      <td>0</td>\n",
       "      <td>0</td>\n",
       "      <td>0</td>\n",
       "      <td>0</td>\n",
       "      <td>0</td>\n",
       "      <td>...</td>\n",
       "      <td>0</td>\n",
       "      <td>0</td>\n",
       "      <td>0</td>\n",
       "      <td>0</td>\n",
       "      <td>0</td>\n",
       "      <td>0</td>\n",
       "      <td>0</td>\n",
       "      <td>0</td>\n",
       "      <td>0</td>\n",
       "      <td>0</td>\n",
       "    </tr>\n",
       "    <tr>\n",
       "      <th>d1867cbda35e0d48e9a8390d9f5e079c9d99ea96</th>\n",
       "      <td>0</td>\n",
       "      <td>0</td>\n",
       "      <td>0</td>\n",
       "      <td>1</td>\n",
       "      <td>0</td>\n",
       "      <td>0</td>\n",
       "      <td>0</td>\n",
       "      <td>0</td>\n",
       "      <td>0</td>\n",
       "      <td>0</td>\n",
       "      <td>...</td>\n",
       "      <td>0</td>\n",
       "      <td>0</td>\n",
       "      <td>0</td>\n",
       "      <td>0</td>\n",
       "      <td>0</td>\n",
       "      <td>0</td>\n",
       "      <td>0</td>\n",
       "      <td>0</td>\n",
       "      <td>0</td>\n",
       "      <td>0</td>\n",
       "    </tr>\n",
       "    <tr>\n",
       "      <th>63268cce0d68127729890c1691f62d5be5abd87c</th>\n",
       "      <td>0</td>\n",
       "      <td>0</td>\n",
       "      <td>1</td>\n",
       "      <td>0</td>\n",
       "      <td>0</td>\n",
       "      <td>0</td>\n",
       "      <td>0</td>\n",
       "      <td>0</td>\n",
       "      <td>0</td>\n",
       "      <td>0</td>\n",
       "      <td>...</td>\n",
       "      <td>0</td>\n",
       "      <td>0</td>\n",
       "      <td>0</td>\n",
       "      <td>0</td>\n",
       "      <td>0</td>\n",
       "      <td>0</td>\n",
       "      <td>0</td>\n",
       "      <td>0</td>\n",
       "      <td>0</td>\n",
       "      <td>0</td>\n",
       "    </tr>\n",
       "    <tr>\n",
       "      <th>02871cd952d607ba69b64e2e107773012c708113</th>\n",
       "      <td>0</td>\n",
       "      <td>0</td>\n",
       "      <td>1</td>\n",
       "      <td>0</td>\n",
       "      <td>0</td>\n",
       "      <td>0</td>\n",
       "      <td>0</td>\n",
       "      <td>0</td>\n",
       "      <td>0</td>\n",
       "      <td>0</td>\n",
       "      <td>...</td>\n",
       "      <td>0</td>\n",
       "      <td>0</td>\n",
       "      <td>0</td>\n",
       "      <td>0</td>\n",
       "      <td>0</td>\n",
       "      <td>0</td>\n",
       "      <td>0</td>\n",
       "      <td>0</td>\n",
       "      <td>0</td>\n",
       "      <td>0</td>\n",
       "    </tr>\n",
       "  </tbody>\n",
       "</table>\n",
       "<p>5 rows × 364 columns</p>\n",
       "</div>"
      ],
      "text/plain": [
       "                                          0s  10s  20s  30s  40s  50s  60s  \\\n",
       "user                                                                         \n",
       "fa40b43298ba3f8aa52e8e8863faf2e2171e0b5d   0    0    1    0    0    0    0   \n",
       "5909125332c108365a26ccf0ee62636eee08215c   0    0    1    0    0    0    0   \n",
       "d1867cbda35e0d48e9a8390d9f5e079c9d99ea96   0    0    0    1    0    0    0   \n",
       "63268cce0d68127729890c1691f62d5be5abd87c   0    0    1    0    0    0    0   \n",
       "02871cd952d607ba69b64e2e107773012c708113   0    0    1    0    0    0    0   \n",
       "\n",
       "                                          70s  80s  90s    ...     Vanuatu  \\\n",
       "user                                                       ...               \n",
       "fa40b43298ba3f8aa52e8e8863faf2e2171e0b5d    0    0    0    ...           0   \n",
       "5909125332c108365a26ccf0ee62636eee08215c    0    0    0    ...           0   \n",
       "d1867cbda35e0d48e9a8390d9f5e079c9d99ea96    0    0    0    ...           0   \n",
       "63268cce0d68127729890c1691f62d5be5abd87c    0    0    0    ...           0   \n",
       "02871cd952d607ba69b64e2e107773012c708113    0    0    0    ...           0   \n",
       "\n",
       "                                          Venezuela  Viet Nam  \\\n",
       "user                                                            \n",
       "fa40b43298ba3f8aa52e8e8863faf2e2171e0b5d          0         0   \n",
       "5909125332c108365a26ccf0ee62636eee08215c          0         0   \n",
       "d1867cbda35e0d48e9a8390d9f5e079c9d99ea96          0         0   \n",
       "63268cce0d68127729890c1691f62d5be5abd87c          0         0   \n",
       "02871cd952d607ba69b64e2e107773012c708113          0         0   \n",
       "\n",
       "                                          Virgin Islands, British  \\\n",
       "user                                                                \n",
       "fa40b43298ba3f8aa52e8e8863faf2e2171e0b5d                        0   \n",
       "5909125332c108365a26ccf0ee62636eee08215c                        0   \n",
       "d1867cbda35e0d48e9a8390d9f5e079c9d99ea96                        0   \n",
       "63268cce0d68127729890c1691f62d5be5abd87c                        0   \n",
       "02871cd952d607ba69b64e2e107773012c708113                        0   \n",
       "\n",
       "                                          Virgin Islands, U.s.  \\\n",
       "user                                                             \n",
       "fa40b43298ba3f8aa52e8e8863faf2e2171e0b5d                     0   \n",
       "5909125332c108365a26ccf0ee62636eee08215c                     0   \n",
       "d1867cbda35e0d48e9a8390d9f5e079c9d99ea96                     0   \n",
       "63268cce0d68127729890c1691f62d5be5abd87c                     0   \n",
       "02871cd952d607ba69b64e2e107773012c708113                     0   \n",
       "\n",
       "                                          Wallis and Futuna  Western Sahara  \\\n",
       "user                                                                          \n",
       "fa40b43298ba3f8aa52e8e8863faf2e2171e0b5d                  0               0   \n",
       "5909125332c108365a26ccf0ee62636eee08215c                  0               0   \n",
       "d1867cbda35e0d48e9a8390d9f5e079c9d99ea96                  0               0   \n",
       "63268cce0d68127729890c1691f62d5be5abd87c                  0               0   \n",
       "02871cd952d607ba69b64e2e107773012c708113                  0               0   \n",
       "\n",
       "                                          Yemen  Zambia  Zimbabwe  \n",
       "user                                                               \n",
       "fa40b43298ba3f8aa52e8e8863faf2e2171e0b5d      0       0         0  \n",
       "5909125332c108365a26ccf0ee62636eee08215c      0       0         0  \n",
       "d1867cbda35e0d48e9a8390d9f5e079c9d99ea96      0       0         0  \n",
       "63268cce0d68127729890c1691f62d5be5abd87c      0       0         0  \n",
       "02871cd952d607ba69b64e2e107773012c708113      0       0         0  \n",
       "\n",
       "[5 rows x 364 columns]"
      ]
     },
     "execution_count": 8,
     "metadata": {},
     "output_type": "execute_result"
    }
   ],
   "source": [
    "print profile_df.shape\n",
    "profile_df.head()"
   ]
  },
  {
   "cell_type": "code",
   "execution_count": 14,
   "metadata": {
    "collapsed": false
   },
   "outputs": [
    {
     "data": {
      "text/plain": [
       "<233286x364 sparse matrix of type '<type 'numpy.float64'>'\n",
       "\twith 823169 stored elements in LInked List format>"
      ]
     },
     "execution_count": 14,
     "metadata": {},
     "output_type": "execute_result"
    }
   ],
   "source": [
    "m = sparse.lil_matrix(profile_df.values)\n",
    "m"
   ]
  },
  {
   "cell_type": "code",
   "execution_count": 15,
   "metadata": {
    "collapsed": false
   },
   "outputs": [
    {
     "data": {
      "text/plain": [
       "<233286x2364 sparse matrix of type '<type 'numpy.float64'>'\n",
       "\twith 823169 stored elements in LInked List format>"
      ]
     },
     "execution_count": 15,
     "metadata": {},
     "output_type": "execute_result"
    }
   ],
   "source": [
    "cols = list(profile_df.columns)\n",
    "artist_list = [tup[1] for tup in artist_df.itertuples()]\n",
    "\n",
    "cols.extend(artist_list)\n",
    "m = sparse.hstack((m, sparse.csr_matrix((m.shape[0], len(artist_list)))), format='lil')\n",
    "m"
   ]
  },
  {
   "cell_type": "code",
   "execution_count": 16,
   "metadata": {
    "collapsed": true
   },
   "outputs": [],
   "source": [
    "col_dict = {col:i for i,col in enumerate(cols)}"
   ]
  },
  {
   "cell_type": "code",
   "execution_count": 17,
   "metadata": {
    "collapsed": true
   },
   "outputs": [],
   "source": [
    "row_dict = {row:i for i, row in enumerate(profile_df.index)}"
   ]
  },
  {
   "cell_type": "code",
   "execution_count": null,
   "metadata": {
    "collapsed": true
   },
   "outputs": [],
   "source": []
  },
  {
   "cell_type": "code",
   "execution_count": 29,
   "metadata": {
    "collapsed": false
   },
   "outputs": [
    {
     "name": "stdout",
     "output_type": "stream",
     "text": [
      "Wall time: 1min 5s\n"
     ]
    }
   ],
   "source": [
    "%%time\n",
    "for row in train_df.itertuples():\n",
    "    m[row_dict[row[1]], col_dict[row[2]]] = row[3]"
   ]
  },
  {
   "cell_type": "code",
   "execution_count": 32,
   "metadata": {
    "collapsed": false
   },
   "outputs": [],
   "source": [
    "m = m.tocsr()"
   ]
  },
  {
   "cell_type": "code",
   "execution_count": 36,
   "metadata": {
    "collapsed": false
   },
   "outputs": [
    {
     "name": "stdout",
     "output_type": "stream",
     "text": [
      "Wall time: 24.7 s\n"
     ]
    }
   ],
   "source": [
    "%%time\n",
    "with open('data.p', 'w') as p:\n",
    "    pickle.dump((row_dict, col_dict, m), p)"
   ]
  },
  {
   "cell_type": "markdown",
   "metadata": {},
   "source": [
    "###Clustering"
   ]
  },
  {
   "cell_type": "code",
   "execution_count": 163,
   "metadata": {
    "collapsed": false
   },
   "outputs": [],
   "source": [
    "from sklearn.decomposition import PCA, SparsePCA, MiniBatchSparsePCA, NMF\n",
    "from sklearn.preprocessing import MaxAbsScaler"
   ]
  },
  {
   "cell_type": "code",
   "execution_count": 104,
   "metadata": {
    "collapsed": false
   },
   "outputs": [],
   "source": [
    "scaler = MaxAbsScaler()\n",
    "m = scaler.fit_transform(m)"
   ]
  },
  {
   "cell_type": "code",
   "execution_count": 105,
   "metadata": {
    "collapsed": true
   },
   "outputs": [],
   "source": [
    "pca = MiniBatchSparsePCA(n_components=10)"
   ]
  },
  {
   "cell_type": "code",
   "execution_count": 112,
   "metadata": {
    "collapsed": false
   },
   "outputs": [
    {
     "name": "stdout",
     "output_type": "stream",
     "text": [
      "Wall time: 21.3 s\n"
     ]
    },
    {
     "data": {
      "text/plain": [
       "MiniBatchSparsePCA(alpha=1, batch_size=3, callback=None, method='lars',\n",
       "          n_components=10, n_iter=100, n_jobs=1, random_state=None,\n",
       "          ridge_alpha=0.01, shuffle=True, verbose=False)"
      ]
     },
     "execution_count": 112,
     "metadata": {},
     "output_type": "execute_result"
    }
   ],
   "source": [
    "%%time\n",
    "pca.fit(m[0:100000,:].toarray())"
   ]
  },
  {
   "cell_type": "code",
   "execution_count": 150,
   "metadata": {
    "collapsed": false
   },
   "outputs": [
    {
     "name": "stdout",
     "output_type": "stream",
     "text": [
      "[0, 1, 0, 0, 2, 0, 0, 0, 1, 21]\n",
      "['20s' 'f' 'm' '20.0' 'Australia' 'Brazil' 'Canada' 'Finland' 'France'\n",
      " 'Germany' 'Italy' 'Mexico' 'Netherlands' 'Norway' 'Poland'\n",
      " 'Russian Federation' 'Spain' 'Sweden' 'Turkey' 'United Kingdom'\n",
      " 'United States']\n"
     ]
    }
   ],
   "source": [
    "print map(lambda k : sum(pca.components_[k] != 0), range(10))\n",
    "print np.array(cols)[pca.components_[9]!=0]"
   ]
  },
  {
   "cell_type": "code",
   "execution_count": null,
   "metadata": {
    "collapsed": true
   },
   "outputs": [],
   "source": []
  },
  {
   "cell_type": "code",
   "execution_count": 280,
   "metadata": {
    "collapsed": true
   },
   "outputs": [],
   "source": [
    "nmf = NMF(n_components=10, init='nndsvd', l1_ratio=1)"
   ]
  },
  {
   "cell_type": "code",
   "execution_count": 282,
   "metadata": {
    "collapsed": false
   },
   "outputs": [
    {
     "name": "stdout",
     "output_type": "stream",
     "text": [
      "Wall time: 11 s\n"
     ]
    },
    {
     "data": {
      "text/plain": [
       "NMF(alpha=0.0, beta=1, eta=0.1, init='nndsvd', l1_ratio=1, max_iter=200,\n",
       "  n_components=10, nls_max_iter=2000, random_state=None, shuffle=False,\n",
       "  solver='cd', sparseness=None, tol=0.0001, verbose=0)"
      ]
     },
     "execution_count": 282,
     "metadata": {},
     "output_type": "execute_result"
    }
   ],
   "source": [
    "%%time\n",
    "nmf.fit(m)"
   ]
  },
  {
   "cell_type": "code",
   "execution_count": null,
   "metadata": {
    "collapsed": true
   },
   "outputs": [],
   "source": []
  },
  {
   "cell_type": "code",
   "execution_count": 283,
   "metadata": {
    "collapsed": false
   },
   "outputs": [
    {
     "data": {
      "text/plain": [
       "0.042262344213656107"
      ]
     },
     "execution_count": 283,
     "metadata": {},
     "output_type": "execute_result"
    }
   ],
   "source": [
    "np.max(nmf.components_[:,364:])"
   ]
  },
  {
   "cell_type": "code",
   "execution_count": 284,
   "metadata": {
    "collapsed": false
   },
   "outputs": [],
   "source": [
    "check_max = nmf.components_ == np.max(nmf.components_[:,364:])\n",
    "dim0 = [tup for tup in enumerate(check_max.sum(axis=1)) if tup[1]==1][0][0]\n",
    "dim1 = [tup for tup in enumerate(check_max.sum(axis=0)) if tup[1]==1][0][0]\n",
    "assert(nmf.components_[dim0,dim1] == np.max(nmf.components_[:,364:]))"
   ]
  },
  {
   "cell_type": "code",
   "execution_count": null,
   "metadata": {
    "collapsed": true
   },
   "outputs": [],
   "source": []
  },
  {
   "cell_type": "code",
   "execution_count": null,
   "metadata": {
    "collapsed": true
   },
   "outputs": [],
   "source": []
  },
  {
   "cell_type": "code",
   "execution_count": 302,
   "metadata": {
    "collapsed": false
   },
   "outputs": [],
   "source": [
    "best_indices = map(lambda v : list(bn.argpartsort(-v,20)[0:20]), nmf.components_[:,364:])"
   ]
  },
  {
   "cell_type": "code",
   "execution_count": 307,
   "metadata": {
    "collapsed": false
   },
   "outputs": [
    {
     "data": {
      "text/html": [
       "<div>\n",
       "<table border=\"1\" class=\"dataframe\">\n",
       "  <thead>\n",
       "    <tr style=\"text-align: right;\">\n",
       "      <th></th>\n",
       "      <th>name</th>\n",
       "    </tr>\n",
       "    <tr>\n",
       "      <th>artist</th>\n",
       "      <th></th>\n",
       "    </tr>\n",
       "  </thead>\n",
       "  <tbody>\n",
       "    <tr>\n",
       "      <th>0af78501-5647-4c18-9a0d-66ac8789e13b</th>\n",
       "      <td>Beirut</td>\n",
       "    </tr>\n",
       "    <tr>\n",
       "      <th>a47c3aa2-7d87-475c-a2c7-1e2047dafb09</th>\n",
       "      <td>Gnarls Barkley</td>\n",
       "    </tr>\n",
       "    <tr>\n",
       "      <th>14b22b4b-06d5-4b82-8284-29d29b58945f</th>\n",
       "      <td>Air</td>\n",
       "    </tr>\n",
       "    <tr>\n",
       "      <th>10adbe5e-a2c0-4bf3-8249-2b4cbf6e6ca8</th>\n",
       "      <td>Massive Attack</td>\n",
       "    </tr>\n",
       "    <tr>\n",
       "      <th>52074ba6-e495-4ef3-9bb4-0703888a9f68</th>\n",
       "      <td>Arcade Fire</td>\n",
       "    </tr>\n",
       "    <tr>\n",
       "      <th>6ffb8ea9-2370-44d8-b678-e9237bbd347b</th>\n",
       "      <td>Kings of Leon</td>\n",
       "    </tr>\n",
       "    <tr>\n",
       "      <th>bf710b71-48e5-4e15-9bd6-96debb2e4e98</th>\n",
       "      <td>The Knife</td>\n",
       "    </tr>\n",
       "    <tr>\n",
       "      <th>f1b525b4-ddd0-4d39-85b2-d8fa26a7f279</th>\n",
       "      <td>Feist</td>\n",
       "    </tr>\n",
       "    <tr>\n",
       "      <th>cf0f4547-ffbd-4011-98ad-0bec9ba022db</th>\n",
       "      <td>Kings of Convenience</td>\n",
       "    </tr>\n",
       "    <tr>\n",
       "      <th>67f66c07-6e61-4026-ade5-7e782fad3a5d</th>\n",
       "      <td>Foo Fighters</td>\n",
       "    </tr>\n",
       "    <tr>\n",
       "      <th>f6f2326f-6b25-4170-b89d-e235b25508e8</th>\n",
       "      <td>Sigur Rós</td>\n",
       "    </tr>\n",
       "    <tr>\n",
       "      <th>35723b60-732e-4bd8-957f-320b416e7b7f</th>\n",
       "      <td>Groove Armada</td>\n",
       "    </tr>\n",
       "    <tr>\n",
       "      <th>90cc2464-234e-4da0-b39b-576f36e633bc</th>\n",
       "      <td>Antony and the Johnsons</td>\n",
       "    </tr>\n",
       "    <tr>\n",
       "      <th>0039c7ae-e1a7-4a7d-9b49-0cbc716821a6</th>\n",
       "      <td>Death Cab for Cutie</td>\n",
       "    </tr>\n",
       "    <tr>\n",
       "      <th>e795e03d-b5d5-4a5f-834d-162cfb308a2c</th>\n",
       "      <td>PJ Harvey</td>\n",
       "    </tr>\n",
       "    <tr>\n",
       "      <th>0110e63e-0a9b-4818-af8e-41e180c20b9a</th>\n",
       "      <td>Devendra Banhart</td>\n",
       "    </tr>\n",
       "    <tr>\n",
       "      <th>fa7b9055-3703-473a-8a09-adf2fe031a24</th>\n",
       "      <td>CAKE</td>\n",
       "    </tr>\n",
       "    <tr>\n",
       "      <th>b45335d1-5219-4262-a44d-936aa36eeaed</th>\n",
       "      <td>Ladytron</td>\n",
       "    </tr>\n",
       "    <tr>\n",
       "      <th>bbc5b66b-d037-4f26-aecf-0b129e7f876a</th>\n",
       "      <td>Jimmy Eat World</td>\n",
       "    </tr>\n",
       "    <tr>\n",
       "      <th>f22942a1-6f70-4f48-866e-238cb2308fbd</th>\n",
       "      <td>Aphex Twin</td>\n",
       "    </tr>\n",
       "  </tbody>\n",
       "</table>\n",
       "</div>"
      ],
      "text/plain": [
       "                                                         name\n",
       "artist                                                       \n",
       "0af78501-5647-4c18-9a0d-66ac8789e13b                   Beirut\n",
       "a47c3aa2-7d87-475c-a2c7-1e2047dafb09           Gnarls Barkley\n",
       "14b22b4b-06d5-4b82-8284-29d29b58945f                      Air\n",
       "10adbe5e-a2c0-4bf3-8249-2b4cbf6e6ca8           Massive Attack\n",
       "52074ba6-e495-4ef3-9bb4-0703888a9f68              Arcade Fire\n",
       "6ffb8ea9-2370-44d8-b678-e9237bbd347b            Kings of Leon\n",
       "bf710b71-48e5-4e15-9bd6-96debb2e4e98                The Knife\n",
       "f1b525b4-ddd0-4d39-85b2-d8fa26a7f279                    Feist\n",
       "cf0f4547-ffbd-4011-98ad-0bec9ba022db     Kings of Convenience\n",
       "67f66c07-6e61-4026-ade5-7e782fad3a5d             Foo Fighters\n",
       "f6f2326f-6b25-4170-b89d-e235b25508e8                Sigur Rós\n",
       "35723b60-732e-4bd8-957f-320b416e7b7f            Groove Armada\n",
       "90cc2464-234e-4da0-b39b-576f36e633bc  Antony and the Johnsons\n",
       "0039c7ae-e1a7-4a7d-9b49-0cbc716821a6      Death Cab for Cutie\n",
       "e795e03d-b5d5-4a5f-834d-162cfb308a2c                PJ Harvey\n",
       "0110e63e-0a9b-4818-af8e-41e180c20b9a         Devendra Banhart\n",
       "fa7b9055-3703-473a-8a09-adf2fe031a24                     CAKE\n",
       "b45335d1-5219-4262-a44d-936aa36eeaed                 Ladytron\n",
       "bbc5b66b-d037-4f26-aecf-0b129e7f876a          Jimmy Eat World\n",
       "f22942a1-6f70-4f48-866e-238cb2308fbd               Aphex Twin"
      ]
     },
     "execution_count": 307,
     "metadata": {},
     "output_type": "execute_result"
    }
   ],
   "source": [
    "artist_df.set_index('artist').loc[np.array(cols[364:])[np.array(best_indices[9])],:]"
   ]
  },
  {
   "cell_type": "code",
   "execution_count": 299,
   "metadata": {
    "collapsed": false
   },
   "outputs": [
    {
     "data": {
      "text/plain": [
       "[array(['65f4f0c5-ef9e-490c-aee3-909e7ae6b2ab',\n",
       "        '14b22b4b-06d5-4b82-8284-29d29b58945f',\n",
       "        'a47c3aa2-7d87-475c-a2c7-1e2047dafb09',\n",
       "        '618b6900-0618-4f1e-b835-bccb17f84294',\n",
       "        '83d91898-7763-47d7-b03b-b92132375c47',\n",
       "        '35723b60-732e-4bd8-957f-320b416e7b7f',\n",
       "        'a9044915-8be3-4c7e-b11f-9e2d2ea0a91e',\n",
       "        'cc0b7089-c08d-4c10-b6b0-873582c17fd6',\n",
       "        '10adbe5e-a2c0-4bf3-8249-2b4cbf6e6ca8',\n",
       "        '6ffb8ea9-2370-44d8-b678-e9237bbd347b'], \n",
       "       dtype='|S36'), array(['0af78501-5647-4c18-9a0d-66ac8789e13b',\n",
       "        '6e0c7c0e-cba5-4c2c-a652-38f71ef5785d',\n",
       "        '6ffb8ea9-2370-44d8-b678-e9237bbd347b',\n",
       "        'f82f3a3e-29c2-42ca-b589-bc5dc210fa9e',\n",
       "        'f1b525b4-ddd0-4d39-85b2-d8fa26a7f279',\n",
       "        'c485632c-b784-4ee9-8ea1-c5fb365681fc',\n",
       "        'e795e03d-b5d5-4a5f-834d-162cfb308a2c',\n",
       "        '2119beb8-6ac5-4f21-82a4-b831c90c0024',\n",
       "        '05755bf1-380c-487f-983f-d1a02401fa28',\n",
       "        'cf0f4547-ffbd-4011-98ad-0bec9ba022db'], \n",
       "       dtype='|S36'), array(['b267ca80-034e-4dc1-9ed4-ec45f1fed41d',\n",
       "        '09885b8e-f235-4b80-a02a-055539493173',\n",
       "        'c485632c-b784-4ee9-8ea1-c5fb365681fc',\n",
       "        'cc0b7089-c08d-4c10-b6b0-873582c17fd6',\n",
       "        'f82f3a3e-29c2-42ca-b589-bc5dc210fa9e',\n",
       "        '606bf117-494f-4864-891f-09d63ff6aa4b',\n",
       "        '0743b15a-3c32-48c8-ad58-cb325350befa',\n",
       "        '350bce49-c21b-4137-b50a-0766ded07e4d',\n",
       "        'b95ce3ff-3d05-4e87-9e01-c97b66af13d4',\n",
       "        '1f5ff245-2837-4d4a-a609-e93e544478c3'], \n",
       "       dtype='|S36'), array(['0039c7ae-e1a7-4a7d-9b49-0cbc716821a6',\n",
       "        '1f43d76f-8edf-44f6-aaf1-b65f05ad9402',\n",
       "        'f467181e-d5e0-4285-b47e-e853dcc89ee7',\n",
       "        'fa7b9055-3703-473a-8a09-adf2fe031a24',\n",
       "        '24e36781-1f4a-40af-bd18-c5de61f10c66',\n",
       "        '01d3c51b-9b98-418a-8d8e-37f6fab59d8c',\n",
       "        '97b1142f-c71e-4971-8736-4a8ceaf6b4c3',\n",
       "        '0c751690-c784-4a4f-b1e4-c1de27d47581',\n",
       "        'af37c51c-0790-4a29-b995-456f98a6b8c9',\n",
       "        'a506f761-2c22-4b2f-8a94-bd748c2c8f75'], \n",
       "       dtype='|S36'), array(['f1106b17-dcbb-45f6-b938-199ccfab50cc',\n",
       "        'e795e03d-b5d5-4a5f-834d-162cfb308a2c',\n",
       "        '14b22b4b-06d5-4b82-8284-29d29b58945f',\n",
       "        'b6b2bb8d-54a9-491f-9607-7b546023b433',\n",
       "        '5e372a49-5672-4fb8-ba14-18c90780c4f9',\n",
       "        '35723b60-732e-4bd8-957f-320b416e7b7f',\n",
       "        '172e1f1a-504d-4488-b053-6344ba63e6d0',\n",
       "        '52074ba6-e495-4ef3-9bb4-0703888a9f68',\n",
       "        '90cc2464-234e-4da0-b39b-576f36e633bc',\n",
       "        '2aaf7396-6ab8-40f3-9776-a41c42c8e26b'], \n",
       "       dtype='|S36'), array(['3f2e771c-6559-4603-8c4a-90c89bc94aa1',\n",
       "        '733e7372-5400-4c79-9059-33e2b2262d01',\n",
       "        'a18015b2-6584-4110-9f7f-23c95b2b066c',\n",
       "        '35581de7-591f-424f-9c64-7b22fd45605e',\n",
       "        '5de80871-f721-4c7c-b0c5-4ad0d350c232',\n",
       "        '10c07fca-2678-40b6-9644-cde68d3e9554',\n",
       "        '49c43c49-328d-4b14-8a1d-be99cafaec14',\n",
       "        '23620454-4dca-45b7-8496-066e94d99826',\n",
       "        '13c9c494-09aa-4518-8572-9f41dbdff461',\n",
       "        'a9b88ebb-83aa-4ef7-b674-fabeb572c14e'], \n",
       "       dtype='|S36'), array(['892500b7-09a6-4049-ba92-2d192dd70563',\n",
       "        '42555956-bf57-4240-aadf-b58e6762932c',\n",
       "        '848262ad-408e-469a-a7bb-13ef82622b7f',\n",
       "        '4f6dd51e-bfd7-4153-ace7-9316d1757a57',\n",
       "        '6ffb8ea9-2370-44d8-b678-e9237bbd347b',\n",
       "        'ef0344c6-e24d-4fd3-be7e-c4eb9f62be2d',\n",
       "        '64d62f45-e001-40a1-a055-c3545fcc14de',\n",
       "        '83b86967-6b1a-4ca8-9cf0-c7cfe047ef3f',\n",
       "        '2aaf7396-6ab8-40f3-9776-a41c42c8e26b',\n",
       "        'f2fc6ece-5615-4d2c-9cb3-8c5d51a839ea'], \n",
       "       dtype='|S36'), array(['0039c7ae-e1a7-4a7d-9b49-0cbc716821a6',\n",
       "        'cc0b7089-c08d-4c10-b6b0-873582c17fd6',\n",
       "        'f467181e-d5e0-4285-b47e-e853dcc89ee7',\n",
       "        'e21857d5-3256-4547-afb3-4b6ded592596',\n",
       "        '350bce49-c21b-4137-b50a-0766ded07e4d',\n",
       "        '788ad31c-bf0c-4a31-83f8-b8b130d79c76',\n",
       "        'f82f3a3e-29c2-42ca-b589-bc5dc210fa9e',\n",
       "        '674a7e8c-9682-419a-8e05-2358e28b5359',\n",
       "        '6ffb8ea9-2370-44d8-b678-e9237bbd347b',\n",
       "        '65f4f0c5-ef9e-490c-aee3-909e7ae6b2ab'], \n",
       "       dtype='|S36'), array(['cc0b7089-c08d-4c10-b6b0-873582c17fd6',\n",
       "        'f82f3a3e-29c2-42ca-b589-bc5dc210fa9e',\n",
       "        'c485632c-b784-4ee9-8ea1-c5fb365681fc',\n",
       "        '674a7e8c-9682-419a-8e05-2358e28b5359',\n",
       "        '6ffb8ea9-2370-44d8-b678-e9237bbd347b',\n",
       "        '0743b15a-3c32-48c8-ad58-cb325350befa',\n",
       "        '0039c7ae-e1a7-4a7d-9b49-0cbc716821a6',\n",
       "        '0af78501-5647-4c18-9a0d-66ac8789e13b',\n",
       "        'e21857d5-3256-4547-afb3-4b6ded592596',\n",
       "        'b1003bf1-25b8-41f4-a783-36060f987913'], \n",
       "       dtype='|S36'), array(['cf0f4547-ffbd-4011-98ad-0bec9ba022db',\n",
       "        '0af78501-5647-4c18-9a0d-66ac8789e13b',\n",
       "        '14b22b4b-06d5-4b82-8284-29d29b58945f',\n",
       "        '52074ba6-e495-4ef3-9bb4-0703888a9f68',\n",
       "        'f1b525b4-ddd0-4d39-85b2-d8fa26a7f279',\n",
       "        'a47c3aa2-7d87-475c-a2c7-1e2047dafb09',\n",
       "        'bf710b71-48e5-4e15-9bd6-96debb2e4e98',\n",
       "        '6ffb8ea9-2370-44d8-b678-e9237bbd347b',\n",
       "        '10adbe5e-a2c0-4bf3-8249-2b4cbf6e6ca8',\n",
       "        'e795e03d-b5d5-4a5f-834d-162cfb308a2c'], \n",
       "       dtype='|S36')]"
      ]
     },
     "execution_count": 299,
     "metadata": {},
     "output_type": "execute_result"
    }
   ],
   "source": [
    "[np.array(cols[364:])[np.array(row)] for row in best_indices]"
   ]
  },
  {
   "cell_type": "code",
   "execution_count": null,
   "metadata": {
    "collapsed": true
   },
   "outputs": [],
   "source": [
    "best_indices = map(lambda v : list(bn.argpartsort(-v,num_best)[0:num_best]), H)\n",
    "for i in range(len(best_indices)):\n",
    "    best_indices[i].sort(key = lambda j : -H[i,j])\n",
    "best_words = [[vocab_rev[i] for i in lst] for lst in best_indices]"
   ]
  },
  {
   "cell_type": "code",
   "execution_count": null,
   "metadata": {
    "collapsed": true
   },
   "outputs": [],
   "source": []
  },
  {
   "cell_type": "code",
   "execution_count": null,
   "metadata": {
    "collapsed": true
   },
   "outputs": [],
   "source": []
  },
  {
   "cell_type": "code",
   "execution_count": 268,
   "metadata": {
    "collapsed": false
   },
   "outputs": [
    {
     "data": {
      "text/html": [
       "<div>\n",
       "<table border=\"1\" class=\"dataframe\">\n",
       "  <thead>\n",
       "    <tr style=\"text-align: right;\">\n",
       "      <th></th>\n",
       "      <th>artist</th>\n",
       "      <th>name</th>\n",
       "    </tr>\n",
       "  </thead>\n",
       "  <tbody>\n",
       "    <tr>\n",
       "      <th>643</th>\n",
       "      <td>d87e52c5-bb8d-4da8-b941-9f4928627dc8</td>\n",
       "      <td>ABBA</td>\n",
       "    </tr>\n",
       "  </tbody>\n",
       "</table>\n",
       "</div>"
      ],
      "text/plain": [
       "                                   artist  name\n",
       "643  d87e52c5-bb8d-4da8-b941-9f4928627dc8  ABBA"
      ]
     },
     "execution_count": 268,
     "metadata": {},
     "output_type": "execute_result"
    }
   ],
   "source": [
    "artist_df[artist_df.artist==cols[dim1]]"
   ]
  },
  {
   "cell_type": "code",
   "execution_count": 278,
   "metadata": {
    "collapsed": false
   },
   "outputs": [
    {
     "data": {
      "text/html": [
       "<div>\n",
       "<table border=\"1\" class=\"dataframe\">\n",
       "  <thead>\n",
       "    <tr style=\"text-align: right;\">\n",
       "      <th></th>\n",
       "      <th>name</th>\n",
       "    </tr>\n",
       "    <tr>\n",
       "      <th>artist</th>\n",
       "      <th></th>\n",
       "    </tr>\n",
       "  </thead>\n",
       "  <tbody>\n",
       "    <tr>\n",
       "      <th>a3cb23fc-acd3-4ce0-8f36-1e5aa6a18432</th>\n",
       "      <td>U2</td>\n",
       "    </tr>\n",
       "    <tr>\n",
       "      <th>4d9fb84a-8104-48c1-aa16-21f53c9053cc</th>\n",
       "      <td>Ignite</td>\n",
       "    </tr>\n",
       "    <tr>\n",
       "      <th>5f58803e-8c4c-478e-8b51-477f38483ede</th>\n",
       "      <td>Madness</td>\n",
       "    </tr>\n",
       "    <tr>\n",
       "      <th>c1e5344e-1bff-4727-9417-a4f55e41b5ff</th>\n",
       "      <td>Loreena McKennitt</td>\n",
       "    </tr>\n",
       "    <tr>\n",
       "      <th>96c1edac-1011-4cb8-882c-27248de35071</th>\n",
       "      <td>The Cramps</td>\n",
       "    </tr>\n",
       "    <tr>\n",
       "      <th>f46bd570-5768-462e-b84c-c7c993bbf47e</th>\n",
       "      <td>Eagles</td>\n",
       "    </tr>\n",
       "    <tr>\n",
       "      <th>c1d4f2ba-cf39-460c-9528-6b827d3417a1</th>\n",
       "      <td>Yes</td>\n",
       "    </tr>\n",
       "    <tr>\n",
       "      <th>cf0f4547-ffbd-4011-98ad-0bec9ba022db</th>\n",
       "      <td>Kings of Convenience</td>\n",
       "    </tr>\n",
       "    <tr>\n",
       "      <th>f27ec8db-af05-4f36-916e-3d57f91ecf5e</th>\n",
       "      <td>Michael Jackson</td>\n",
       "    </tr>\n",
       "    <tr>\n",
       "      <th>bf0f7e29-dfe1-416c-b5c6-f9ebc19ea810</th>\n",
       "      <td>Bee Gees</td>\n",
       "    </tr>\n",
       "    <tr>\n",
       "      <th>61604b45-8a91-4e33-a1b6-45d7b1fec4e5</th>\n",
       "      <td>Destroyer</td>\n",
       "    </tr>\n",
       "    <tr>\n",
       "      <th>ef6a8aab-9dfe-46ac-a225-67df4601ad69</th>\n",
       "      <td>Vive la Fête</td>\n",
       "    </tr>\n",
       "    <tr>\n",
       "      <th>854a1807-025b-42a8-ba8c-2a39717f1d25</th>\n",
       "      <td>Breaking Benjamin</td>\n",
       "    </tr>\n",
       "    <tr>\n",
       "      <th>e0ededb4-6085-4f68-90f7-89bc560930a3</th>\n",
       "      <td>Darkest Hour</td>\n",
       "    </tr>\n",
       "    <tr>\n",
       "      <th>3bcff06f-675a-451f-9075-99e8657047e8</th>\n",
       "      <td>Four Tet</td>\n",
       "    </tr>\n",
       "    <tr>\n",
       "      <th>b071f9fa-14b0-4217-8e97-eb41da73f598</th>\n",
       "      <td>The Rolling Stones</td>\n",
       "    </tr>\n",
       "    <tr>\n",
       "      <th>7746d775-9550-4360-b8d5-c37bd448ce01</th>\n",
       "      <td>“Weird Al” Yankovic</td>\n",
       "    </tr>\n",
       "    <tr>\n",
       "      <th>d8354b38-e942-4c89-ba93-29323432abc3</th>\n",
       "      <td>Thirty Seconds to Mars</td>\n",
       "    </tr>\n",
       "    <tr>\n",
       "      <th>9efff43b-3b29-4082-824e-bc82f646f93d</th>\n",
       "      <td>The Doors</td>\n",
       "    </tr>\n",
       "    <tr>\n",
       "      <th>83e59f23-3b0b-4304-834d-5bcafd5df6d2</th>\n",
       "      <td>Scooter</td>\n",
       "    </tr>\n",
       "    <tr>\n",
       "      <th>b88ca659-0393-4a62-abd8-f290e6c7a7e2</th>\n",
       "      <td>Carter Burwell</td>\n",
       "    </tr>\n",
       "    <tr>\n",
       "      <th>16e1fb95-6d1c-45a3-aad8-d3bcd7e06aac</th>\n",
       "      <td>Hilltop Hoods</td>\n",
       "    </tr>\n",
       "    <tr>\n",
       "      <th>d4a1404d-e00c-4bac-b3ba-e3557f6468d6</th>\n",
       "      <td>Ace of Base</td>\n",
       "    </tr>\n",
       "    <tr>\n",
       "      <th>928303db-cf05-4b19-b11c-d3e5cec36915</th>\n",
       "      <td>MUM</td>\n",
       "    </tr>\n",
       "    <tr>\n",
       "      <th>4b1a830b-0a1f-42e5-b8d5-1d6743912e99</th>\n",
       "      <td>Creed</td>\n",
       "    </tr>\n",
       "    <tr>\n",
       "      <th>71bd1152-5ee2-4919-80d7-d269dfd48a55</th>\n",
       "      <td>Matchbook Romance</td>\n",
       "    </tr>\n",
       "    <tr>\n",
       "      <th>1339fab0-3ad8-4b8e-afac-7b7ae34509c7</th>\n",
       "      <td>Thousand Foot Krutch</td>\n",
       "    </tr>\n",
       "    <tr>\n",
       "      <th>6d072aa8-c851-49c5-92f9-cbca05f4bed9</th>\n",
       "      <td>Orchestral Manoeuvres in the Dark</td>\n",
       "    </tr>\n",
       "    <tr>\n",
       "      <th>86e2e2ad-6d1b-44fd-9463-b6683718a1cc</th>\n",
       "      <td>Jean Michel Jarre</td>\n",
       "    </tr>\n",
       "    <tr>\n",
       "      <th>ccfe7a3c-1a45-4984-a8d0-644549cefe61</th>\n",
       "      <td>Europe</td>\n",
       "    </tr>\n",
       "    <tr>\n",
       "      <th>...</th>\n",
       "      <td>...</td>\n",
       "    </tr>\n",
       "    <tr>\n",
       "      <th>1a1cd7f3-e5df-4eca-bae2-2757c9e656b5</th>\n",
       "      <td>Duran Duran</td>\n",
       "    </tr>\n",
       "    <tr>\n",
       "      <th>ea9078ef-20ca-4506-81ea-2ae5fe3a42e8</th>\n",
       "      <td>Madlib</td>\n",
       "    </tr>\n",
       "    <tr>\n",
       "      <th>1eeaf46d-4991-4e95-8068-927627ccfc18</th>\n",
       "      <td>Tunng</td>\n",
       "    </tr>\n",
       "    <tr>\n",
       "      <th>1b0b533e-9a62-4a95-9c68-f2e140dde9da</th>\n",
       "      <td>Lali Puna</td>\n",
       "    </tr>\n",
       "    <tr>\n",
       "      <th>8b46a7e4-704d-4f8d-973a-a0ab8ea8249b</th>\n",
       "      <td>Eternal Tears of Sorrow</td>\n",
       "    </tr>\n",
       "    <tr>\n",
       "      <th>05071a7e-e71c-4306-a509-591cd3686893</th>\n",
       "      <td>Angels &amp; Airwaves</td>\n",
       "    </tr>\n",
       "    <tr>\n",
       "      <th>453f1594-112e-4d3c-921a-8d14e9c97b2e</th>\n",
       "      <td>Telefon Tel Aviv</td>\n",
       "    </tr>\n",
       "    <tr>\n",
       "      <th>e1f1e33e-2e4c-4d43-b91b-7064068d3283</th>\n",
       "      <td>KISS</td>\n",
       "    </tr>\n",
       "    <tr>\n",
       "      <th>10a402b7-0e50-4479-b007-9cfdd5eaa287</th>\n",
       "      <td>Sonic Syndicate</td>\n",
       "    </tr>\n",
       "    <tr>\n",
       "      <th>95e9aba6-f85c-48a0-9ec9-395d4f0e3875</th>\n",
       "      <td>Trentemøller</td>\n",
       "    </tr>\n",
       "    <tr>\n",
       "      <th>e9e2a634-984f-4c10-bf7b-7970179e1ef1</th>\n",
       "      <td>Suicidal Tendencies</td>\n",
       "    </tr>\n",
       "    <tr>\n",
       "      <th>2fa0d3ac-b64c-401a-b0a1-4915ba6cc157</th>\n",
       "      <td>Hoobastank</td>\n",
       "    </tr>\n",
       "    <tr>\n",
       "      <th>ac82cb46-f2b2-4f99-9cfa-d0c322a4ba16</th>\n",
       "      <td>Strike Anywhere</td>\n",
       "    </tr>\n",
       "    <tr>\n",
       "      <th>c0b2500e-0cef-4130-869d-732b23ed9df5</th>\n",
       "      <td>Tori Amos</td>\n",
       "    </tr>\n",
       "    <tr>\n",
       "      <th>e25216bf-b0ac-4bd3-bc5a-1f82a7d0274f</th>\n",
       "      <td>Vertical Horizon</td>\n",
       "    </tr>\n",
       "    <tr>\n",
       "      <th>43b58c98-3779-4b04-9a23-1c95cca3a145</th>\n",
       "      <td>Erasure</td>\n",
       "    </tr>\n",
       "    <tr>\n",
       "      <th>d7311646-287b-4d3a-9a4f-7d46f93075e5</th>\n",
       "      <td>Santigold</td>\n",
       "    </tr>\n",
       "    <tr>\n",
       "      <th>b10bbbfc-cf9e-42e0-be17-e2c3e1d2600d</th>\n",
       "      <td>The Beatles</td>\n",
       "    </tr>\n",
       "    <tr>\n",
       "      <th>ef4db186-ff43-4708-a713-3ce1e05657a1</th>\n",
       "      <td>Immortal Technique</td>\n",
       "    </tr>\n",
       "    <tr>\n",
       "      <th>d614b0ad-fe3a-4927-b413-48cb831a814b</th>\n",
       "      <td>Frou Frou</td>\n",
       "    </tr>\n",
       "    <tr>\n",
       "      <th>1ea2c08f-323c-4207-9af1-e2fb8588f08e</th>\n",
       "      <td>Clinic</td>\n",
       "    </tr>\n",
       "    <tr>\n",
       "      <th>a6de8ef9-b1a1-4756-97aa-481bbb8a4069</th>\n",
       "      <td>Joni Mitchell</td>\n",
       "    </tr>\n",
       "    <tr>\n",
       "      <th>82a5b152-ee60-4447-939a-dd5a91cd7c38</th>\n",
       "      <td>Sentenced</td>\n",
       "    </tr>\n",
       "    <tr>\n",
       "      <th>032f633a-db44-4ab4-af09-a892de2a8773</th>\n",
       "      <td>Mattafix</td>\n",
       "    </tr>\n",
       "    <tr>\n",
       "      <th>0c6b687a-1225-47a1-b6a9-55381755ecf4</th>\n",
       "      <td>HORSE the band</td>\n",
       "    </tr>\n",
       "    <tr>\n",
       "      <th>22a40b75-affc-4e69-8884-266d087e4751</th>\n",
       "      <td>Travis</td>\n",
       "    </tr>\n",
       "    <tr>\n",
       "      <th>f59c5520-5f46-4d2c-b2c4-822eabf53419</th>\n",
       "      <td>Linkin Park</td>\n",
       "    </tr>\n",
       "    <tr>\n",
       "      <th>a436dd02-0549-4c91-b608-df451217fdeb</th>\n",
       "      <td>Parkway Drive</td>\n",
       "    </tr>\n",
       "    <tr>\n",
       "      <th>fbcd7b29-455f-49e6-9c4f-8249d20a055e</th>\n",
       "      <td>Seether</td>\n",
       "    </tr>\n",
       "    <tr>\n",
       "      <th>e0953daa-860f-4dc8-9f1a-b12587cdaf17</th>\n",
       "      <td>Tortoise</td>\n",
       "    </tr>\n",
       "  </tbody>\n",
       "</table>\n",
       "<p>284 rows × 1 columns</p>\n",
       "</div>"
      ],
      "text/plain": [
       "                                                                   name\n",
       "artist                                                                 \n",
       "a3cb23fc-acd3-4ce0-8f36-1e5aa6a18432                                 U2\n",
       "4d9fb84a-8104-48c1-aa16-21f53c9053cc                             Ignite\n",
       "5f58803e-8c4c-478e-8b51-477f38483ede                            Madness\n",
       "c1e5344e-1bff-4727-9417-a4f55e41b5ff                  Loreena McKennitt\n",
       "96c1edac-1011-4cb8-882c-27248de35071                         The Cramps\n",
       "f46bd570-5768-462e-b84c-c7c993bbf47e                             Eagles\n",
       "c1d4f2ba-cf39-460c-9528-6b827d3417a1                                Yes\n",
       "cf0f4547-ffbd-4011-98ad-0bec9ba022db               Kings of Convenience\n",
       "f27ec8db-af05-4f36-916e-3d57f91ecf5e                    Michael Jackson\n",
       "bf0f7e29-dfe1-416c-b5c6-f9ebc19ea810                           Bee Gees\n",
       "61604b45-8a91-4e33-a1b6-45d7b1fec4e5                          Destroyer\n",
       "ef6a8aab-9dfe-46ac-a225-67df4601ad69                       Vive la Fête\n",
       "854a1807-025b-42a8-ba8c-2a39717f1d25                  Breaking Benjamin\n",
       "e0ededb4-6085-4f68-90f7-89bc560930a3                       Darkest Hour\n",
       "3bcff06f-675a-451f-9075-99e8657047e8                           Four Tet\n",
       "b071f9fa-14b0-4217-8e97-eb41da73f598                 The Rolling Stones\n",
       "7746d775-9550-4360-b8d5-c37bd448ce01                “Weird Al” Yankovic\n",
       "d8354b38-e942-4c89-ba93-29323432abc3             Thirty Seconds to Mars\n",
       "9efff43b-3b29-4082-824e-bc82f646f93d                          The Doors\n",
       "83e59f23-3b0b-4304-834d-5bcafd5df6d2                            Scooter\n",
       "b88ca659-0393-4a62-abd8-f290e6c7a7e2                     Carter Burwell\n",
       "16e1fb95-6d1c-45a3-aad8-d3bcd7e06aac                      Hilltop Hoods\n",
       "d4a1404d-e00c-4bac-b3ba-e3557f6468d6                        Ace of Base\n",
       "928303db-cf05-4b19-b11c-d3e5cec36915                                MUM\n",
       "4b1a830b-0a1f-42e5-b8d5-1d6743912e99                              Creed\n",
       "71bd1152-5ee2-4919-80d7-d269dfd48a55                  Matchbook Romance\n",
       "1339fab0-3ad8-4b8e-afac-7b7ae34509c7               Thousand Foot Krutch\n",
       "6d072aa8-c851-49c5-92f9-cbca05f4bed9  Orchestral Manoeuvres in the Dark\n",
       "86e2e2ad-6d1b-44fd-9463-b6683718a1cc                  Jean Michel Jarre\n",
       "ccfe7a3c-1a45-4984-a8d0-644549cefe61                             Europe\n",
       "...                                                                 ...\n",
       "1a1cd7f3-e5df-4eca-bae2-2757c9e656b5                        Duran Duran\n",
       "ea9078ef-20ca-4506-81ea-2ae5fe3a42e8                             Madlib\n",
       "1eeaf46d-4991-4e95-8068-927627ccfc18                              Tunng\n",
       "1b0b533e-9a62-4a95-9c68-f2e140dde9da                          Lali Puna\n",
       "8b46a7e4-704d-4f8d-973a-a0ab8ea8249b            Eternal Tears of Sorrow\n",
       "05071a7e-e71c-4306-a509-591cd3686893                  Angels & Airwaves\n",
       "453f1594-112e-4d3c-921a-8d14e9c97b2e                   Telefon Tel Aviv\n",
       "e1f1e33e-2e4c-4d43-b91b-7064068d3283                               KISS\n",
       "10a402b7-0e50-4479-b007-9cfdd5eaa287                    Sonic Syndicate\n",
       "95e9aba6-f85c-48a0-9ec9-395d4f0e3875                       Trentemøller\n",
       "e9e2a634-984f-4c10-bf7b-7970179e1ef1                Suicidal Tendencies\n",
       "2fa0d3ac-b64c-401a-b0a1-4915ba6cc157                         Hoobastank\n",
       "ac82cb46-f2b2-4f99-9cfa-d0c322a4ba16                    Strike Anywhere\n",
       "c0b2500e-0cef-4130-869d-732b23ed9df5                          Tori Amos\n",
       "e25216bf-b0ac-4bd3-bc5a-1f82a7d0274f                   Vertical Horizon\n",
       "43b58c98-3779-4b04-9a23-1c95cca3a145                            Erasure\n",
       "d7311646-287b-4d3a-9a4f-7d46f93075e5                          Santigold\n",
       "b10bbbfc-cf9e-42e0-be17-e2c3e1d2600d                        The Beatles\n",
       "ef4db186-ff43-4708-a713-3ce1e05657a1                 Immortal Technique\n",
       "d614b0ad-fe3a-4927-b413-48cb831a814b                          Frou Frou\n",
       "1ea2c08f-323c-4207-9af1-e2fb8588f08e                             Clinic\n",
       "a6de8ef9-b1a1-4756-97aa-481bbb8a4069                      Joni Mitchell\n",
       "82a5b152-ee60-4447-939a-dd5a91cd7c38                          Sentenced\n",
       "032f633a-db44-4ab4-af09-a892de2a8773                           Mattafix\n",
       "0c6b687a-1225-47a1-b6a9-55381755ecf4                     HORSE the band\n",
       "22a40b75-affc-4e69-8884-266d087e4751                             Travis\n",
       "f59c5520-5f46-4d2c-b2c4-822eabf53419                        Linkin Park\n",
       "a436dd02-0549-4c91-b608-df451217fdeb                      Parkway Drive\n",
       "fbcd7b29-455f-49e6-9c4f-8249d20a055e                            Seether\n",
       "e0953daa-860f-4dc8-9f1a-b12587cdaf17                           Tortoise\n",
       "\n",
       "[284 rows x 1 columns]"
      ]
     },
     "execution_count": 278,
     "metadata": {},
     "output_type": "execute_result"
    }
   ],
   "source": [
    "artist_df.set_index('artist').loc[np.array(cols[364:])[nmf.components_[dim0,364:]>0],:]"
   ]
  },
  {
   "cell_type": "code",
   "execution_count": 274,
   "metadata": {
    "collapsed": false
   },
   "outputs": [
    {
     "data": {
      "text/plain": [
       "array(['a3cb23fc-acd3-4ce0-8f36-1e5aa6a18432',\n",
       "       '4d9fb84a-8104-48c1-aa16-21f53c9053cc',\n",
       "       '5f58803e-8c4c-478e-8b51-477f38483ede',\n",
       "       'c1e5344e-1bff-4727-9417-a4f55e41b5ff',\n",
       "       '96c1edac-1011-4cb8-882c-27248de35071',\n",
       "       'f46bd570-5768-462e-b84c-c7c993bbf47e',\n",
       "       'c1d4f2ba-cf39-460c-9528-6b827d3417a1',\n",
       "       'cf0f4547-ffbd-4011-98ad-0bec9ba022db',\n",
       "       'f27ec8db-af05-4f36-916e-3d57f91ecf5e',\n",
       "       'bf0f7e29-dfe1-416c-b5c6-f9ebc19ea810',\n",
       "       '61604b45-8a91-4e33-a1b6-45d7b1fec4e5',\n",
       "       'ef6a8aab-9dfe-46ac-a225-67df4601ad69',\n",
       "       '854a1807-025b-42a8-ba8c-2a39717f1d25',\n",
       "       'e0ededb4-6085-4f68-90f7-89bc560930a3',\n",
       "       '3bcff06f-675a-451f-9075-99e8657047e8',\n",
       "       'b071f9fa-14b0-4217-8e97-eb41da73f598',\n",
       "       '7746d775-9550-4360-b8d5-c37bd448ce01',\n",
       "       'd8354b38-e942-4c89-ba93-29323432abc3',\n",
       "       '9efff43b-3b29-4082-824e-bc82f646f93d',\n",
       "       '83e59f23-3b0b-4304-834d-5bcafd5df6d2',\n",
       "       'b88ca659-0393-4a62-abd8-f290e6c7a7e2',\n",
       "       '16e1fb95-6d1c-45a3-aad8-d3bcd7e06aac',\n",
       "       'd4a1404d-e00c-4bac-b3ba-e3557f6468d6',\n",
       "       '928303db-cf05-4b19-b11c-d3e5cec36915',\n",
       "       '4b1a830b-0a1f-42e5-b8d5-1d6743912e99',\n",
       "       '71bd1152-5ee2-4919-80d7-d269dfd48a55',\n",
       "       '1339fab0-3ad8-4b8e-afac-7b7ae34509c7',\n",
       "       '6d072aa8-c851-49c5-92f9-cbca05f4bed9',\n",
       "       '86e2e2ad-6d1b-44fd-9463-b6683718a1cc',\n",
       "       'ccfe7a3c-1a45-4984-a8d0-644549cefe61',\n",
       "       'ba550d0e-adac-4864-b88b-407cab5e76af',\n",
       "       'a5ee1ebe-a645-45d2-8319-d101fe62e581',\n",
       "       'f7df5df4-4dfa-459d-972b-1ba051c15ddc',\n",
       "       'cc197bad-dc9c-440d-a5b5-d52ba2e14234',\n",
       "       'd43d12a1-2dc9-4257-a2fd-0a3bb1081b86',\n",
       "       'f1548c5b-329e-4036-921c-02213a04b525',\n",
       "       '1946a82a-f927-40c2-8235-38d64f50d043',\n",
       "       '348f3a5f-5112-4d72-b33b-11c60b4f9af2',\n",
       "       '13f972c7-7b08-4071-9d12-cca87059c4cd',\n",
       "       '321531fc-db73-4ffa-a959-61a61a2908c1',\n",
       "       '8876c0be-ccff-4d46-aa91-7f935a3b3b6b',\n",
       "       'abdad1b2-f4c6-4d13-a67a-f8e4219f83d8',\n",
       "       '4d7928cd-7ed2-4282-8c29-c0c9f966f1bd',\n",
       "       'e8993e9d-9313-4447-ad23-791459a3790d',\n",
       "       'ebee61b4-bbdd-4087-9bcb-d5aa099088ec',\n",
       "       '481bf5f9-2e7c-4c44-b08a-05b32bc7c00d',\n",
       "       'b896aa8c-2761-40ce-b485-0e1fffd26167',\n",
       "       'c3cceeed-3332-4cf0-8c4c-bbde425147b6',\n",
       "       '69421e11-e4c3-4854-951b-ceab4972e38e',\n",
       "       '21e3292e-dac8-4609-b57d-402f926aa41f',\n",
       "       'cca49e52-1f1e-4c16-9e40-fedebcea065e',\n",
       "       '9a58fda3-f4ed-4080-a3a5-f457aac9fcdd',\n",
       "       '3cb3928a-526c-4a3d-93c5-53315fa9bde0',\n",
       "       'ce58d854-7430-4231-aa44-97f0144b3372',\n",
       "       'd2db1078-c170-4e22-b261-14f3ad60a690',\n",
       "       'e3cb4543-210f-499a-b0d1-3882c312dfb9',\n",
       "       'c4caa34e-57b5-432b-ad9d-7e6543944d96',\n",
       "       '8522b9b6-b295-48d7-9a10-8618fb80beb8',\n",
       "       '944e1036-8a03-4611-8aa0-31515a05c848',\n",
       "       '8bfac288-ccc5-448d-9573-c33ea2aa5c30',\n",
       "       'faabb55d-3c9e-4c23-8779-732ac2ee2c0d',\n",
       "       'a1419808-65d3-4d40-998c-1a0bac65eabc',\n",
       "       '410c9baf-5469-44f6-9852-826524b80c61',\n",
       "       'd7bd0fad-2f06-4936-89ad-60c5b6ada3c1',\n",
       "       '2f9ecbed-27be-40e6-abca-6de49d50299e',\n",
       "       'cbfb9bcd-c5a0-4d7c-865f-2c641c171e1c',\n",
       "       'ac865b2e-bba8-4f5a-8756-dd40d5e39f46',\n",
       "       'e57f0cac-4f56-473c-8d7e-d93f753fd586',\n",
       "       '16a43d5e-c52d-4eaa-9c3b-00b2c1d8e816',\n",
       "       'ccda046a-2674-4f7d-97e6-f23d6c156432',\n",
       "       'a5f92d47-b562-4582-b267-71963a515f4c',\n",
       "       'ba147ea0-60c4-4a40-9da6-0d5c2b2e7b03',\n",
       "       'a4f54716-24d9-4c6b-8ba7-1d7e7a5173d0',\n",
       "       'f5426431-f490-4678-ad44-a75c71097bb4',\n",
       "       '1c70a3fc-fa3c-4be1-8b55-c3192db8a884',\n",
       "       'f22942a1-6f70-4f48-866e-238cb2308fbd',\n",
       "       '980ee2d8-2ee9-407b-b48e-48360fbc7437',\n",
       "       'cf119120-7df5-47d7-9dec-49f8837a4e40',\n",
       "       '0383dadf-2a4e-4d10-a46a-e9e041da8eb3',\n",
       "       '04cd0cfd-bfd1-4c36-bc38-95c35e2c045f',\n",
       "       'bd1180c4-4252-461f-94dc-543906c02522',\n",
       "       '171cbc8f-8ab3-4aec-9916-f0bdbe26bb79',\n",
       "       '516cef4d-0718-4007-9939-f9b38af3f784',\n",
       "       '319b1175-ced9-438f-986b-9239c3edd92d',\n",
       "       '24e1b53c-3085-4581-8472-0b0088d2508c',\n",
       "       '074e3847-f67f-49f9-81f1-8c8cea147e8e',\n",
       "       '24786816-025f-49f4-9787-4945a3311f96',\n",
       "       'f6580b26-77f7-4a7b-8513-6db0476e8f21',\n",
       "       '54d76201-3b30-4722-978f-2abdd62e88dd',\n",
       "       'b665b768-0d83-4363-950c-31ed39317c15',\n",
       "       'e3e0abcd-7671-4482-a9d8-462f5acc9be5',\n",
       "       '109958eb-a335-4c5e-907e-597ff4c6af46',\n",
       "       'fad8967c-a327-4af5-a64a-d4de66ece652',\n",
       "       '4dbf5678-7a31-406a-abbe-232f8ac2cd63',\n",
       "       '83d8a06a-4145-444a-b4ae-49e1e986206f',\n",
       "       'd87e52c5-bb8d-4da8-b941-9f4928627dc8',\n",
       "       'd530dbf9-69b1-404f-98f2-0431104f5a1e',\n",
       "       'b267ca80-034e-4dc1-9ed4-ec45f1fed41d',\n",
       "       '9c1ff574-2ae4-4fea-881f-83293d0d5881',\n",
       "       'db612997-f11e-424d-8b41-cf410a433656',\n",
       "       '0688add2-c282-4ee2-ba61-223ffdb3c201',\n",
       "       'bc1c8f3f-6f36-4086-a470-87ed813dd429',\n",
       "       'c707b37e-cb5c-4694-be4d-46beefcb2475',\n",
       "       '41f4d85a-0bd7-4602-a3e3-8c47f36efb0a',\n",
       "       '0f50beab-d77d-4f0f-ac26-0b87d3e9b11b',\n",
       "       '503877b0-4e1b-452b-851c-5e3f478d3714',\n",
       "       '329f95db-f02e-40bf-a5f7-0dea11529ce3',\n",
       "       '8f9d6bb2-dba4-4cca-9967-cc02b9f4820c',\n",
       "       '6aa55ee1-4c46-4f7c-9a6d-5051dfe2c06d',\n",
       "       '6b966946-5274-4e3d-aabb-7563814d805f',\n",
       "       '38c7a3b2-17fb-4166-b964-4e445d69efdd',\n",
       "       '766a2b45-441f-4096-af05-dbbca9518c9d',\n",
       "       '1cae523b-fbf3-4312-a5c9-e569a6d4bd74',\n",
       "       'e000d76b-afff-4286-a5fd-7ea6405cb80f',\n",
       "       '79491354-3d83-40e3-9d8e-7592d58d790a',\n",
       "       '23b58ea2-1cc3-468a-9e76-5027e196e851',\n",
       "       'c33c2065-b1c3-4406-b066-d33a9e2ea71a',\n",
       "       '477b8c0c-c5fc-4ad2-b5b2-191f0bf2a9df',\n",
       "       '169c4c28-858e-497b-81a4-8bc15e0026ea',\n",
       "       'a9fcd5fd-6ee3-4ee0-bd5e-c457517d1836',\n",
       "       '58e5332d-383e-414c-9917-776d7b1493a2',\n",
       "       '12d432a3-feb0-49b1-a107-d20751880764',\n",
       "       'a2accb58-6099-4cb5-a3c8-f6332f364db5',\n",
       "       '95e1ead9-4d31-4808-a7ac-32c3614c116b',\n",
       "       '69ee3720-a7cb-4402-b48d-a02c366f2bcf',\n",
       "       'ef656595-bbe8-4386-8953-be8df9f54472',\n",
       "       '1b15e90d-910c-4be4-99cb-463772a6430f',\n",
       "       '127f591a-7e27-4435-92db-0780f219f3a1',\n",
       "       'aabb1d9f-be12-45b3-a84d-a1fc3e8181fd',\n",
       "       'b2d122f9-eadb-4930-a196-8f221eeb0c66',\n",
       "       '4d2956d1-a3f7-44bb-9a41-67563e1a0c94',\n",
       "       '092b603f-eb4c-4958-b10e-02420de5885b',\n",
       "       '331ce348-1b08-40b9-8ed7-0763b92bd003',\n",
       "       '765774a0-2060-469b-8b7d-612eea48579b',\n",
       "       '7b2f87f6-db90-464e-a27a-deb4f7219e90',\n",
       "       '8295ee00-0096-461d-95c7-c2263d2a4c6d',\n",
       "       'd4f82967-4008-4481-953d-399d089753dd',\n",
       "       '20aa23e3-3532-42ca-acf6-e8c2e9df2688',\n",
       "       '3d2b98e5-556f-4451-a3ff-c50ea18d57cb',\n",
       "       'f75150f0-d80d-4c34-903b-6acfb47b63ee',\n",
       "       '17e137fb-59e5-4fd7-af48-afc34995396c',\n",
       "       '160629ab-ec18-4931-8c95-02cb92d06186',\n",
       "       '66fce392-d89d-4eaa-a346-c50aa1021f00',\n",
       "       '475ae7a5-07de-46a8-a88d-4322259aafa9',\n",
       "       '5dcdb5eb-cb72-4e6e-9e63-b7bace604965',\n",
       "       '386b19c6-a3d2-414a-bef2-c178572b1cbe',\n",
       "       'd547b148-cf1f-421b-9464-ce7411ba44b8',\n",
       "       '0ef3f425-9bd2-4216-9dd2-219d2fe90f1f',\n",
       "       'ea854cc1-13fc-4fd0-86a5-d2c7dba06764',\n",
       "       '614e3804-7d34-41ba-857f-811bad7c2b7a',\n",
       "       '5dedf5cf-a598-4408-9556-3bf3f149f3ba',\n",
       "       '0ab49580-c84f-44d4-875f-d83760ea2cfe',\n",
       "       '23a03e33-a603-404e-bcbf-2c00159d7067',\n",
       "       '9941a936-196a-4a62-ae53-a69cbc33f20e',\n",
       "       '882d41ca-194d-405a-bfc5-b698ccfd77b4',\n",
       "       'e664d1cd-23ab-48d5-b8fa-e98485daa5be',\n",
       "       'b5fa29f1-6c22-4321-a488-b5f363b06b06',\n",
       "       '6d152109-c447-446d-9a06-3621c920bebd',\n",
       "       '606bf117-494f-4864-891f-09d63ff6aa4b',\n",
       "       '2386cd66-e923-4e8e-bf14-2eebe2e9b973',\n",
       "       '5182c1d9-c7d2-4dad-afa0-ccfeada921a8',\n",
       "       'f16d25c6-556f-42f9-b648-5f48a8f96ec2',\n",
       "       '32efea44-6cb5-4b4f-bdaa-c8b8f6cef981',\n",
       "       '5dfdca28-9ddc-4853-933c-8bc97d87beec',\n",
       "       '4355a36d-805e-478d-8589-64f0292724b2',\n",
       "       'b38225b8-8e5f-42aa-bcdc-7bae5b5bdab3',\n",
       "       '847e8284-8582-4b0e-9c26-b042a4f49e57',\n",
       "       '618b6900-0618-4f1e-b835-bccb17f84294',\n",
       "       '2fa45bbb-0efb-4950-9d40-94bf23cbfec1',\n",
       "       'd3b2711f-2baa-441a-be95-14945ca7e6ea',\n",
       "       'd82ba5f4-da09-479a-ab18-4b1a122c4345',\n",
       "       'f3e2ad21-900e-46a0-8597-2a3e457a7c27',\n",
       "       'a3352eff-cde0-4f15-b44a-6f5c3e9cf079',\n",
       "       '7c158ea8-c0aa-410e-bdc1-20bba9759577',\n",
       "       '382f1005-e9ab-4684-afd4-0bdae4ee37f2',\n",
       "       '7bace718-5f56-4311-9568-e46a70830605',\n",
       "       '5b11f4ce-a62d-471e-81fc-a69a8278c7da',\n",
       "       'd700b3f5-45af-4d02-95ed-57d301bda93e',\n",
       "       'b7a05028-423c-49f2-a7ac-68591c7cf78d',\n",
       "       '9b58672a-e68e-4972-956e-a8985a165a1f',\n",
       "       'd044577e-aa22-43b7-ab29-cabee5f6643c',\n",
       "       '4fbc55bb-61be-4eb7-b4b4-c08c68b4e060',\n",
       "       'c296e10c-110a-4103-9e77-47bfebb7fb2e',\n",
       "       '9f336c50-ae4c-4440-bda7-958aa12bc15a',\n",
       "       '5f821136-9935-403c-abb5-e78ddda35e9f',\n",
       "       '8262d8e4-9137-4bb3-a787-3caabbbc13e9',\n",
       "       '91d51bc3-bfcc-49f2-b6c4-d6d205d6291b',\n",
       "       '5dc8a187-443d-4fb2-a0fc-209ef241b9ce',\n",
       "       'b4d32cff-f19e-455f-86c4-f347d824ca61',\n",
       "       'f04cc80e-0f59-45b8-aaf4-ac81035644e9',\n",
       "       '69158f97-4c07-4c4e-baf8-4e4ab1ed666e',\n",
       "       '3f23c754-8049-44bd-92ca-44a4bacb4380',\n",
       "       'ccd4879c-5e88-4385-b131-bf65296bf245',\n",
       "       '0c751690-c784-4a4f-b1e4-c1de27d47581',\n",
       "       '1afcd689-9be4-4d1a-a9fa-49e086250f51',\n",
       "       '88f219d8-4140-4191-af4b-de81c7c587c4',\n",
       "       'f83781c8-64f9-4657-85bd-51f74d195cfd',\n",
       "       '321fdfbb-426b-43f7-8295-fa9aca6348d9',\n",
       "       'e9e9109e-5914-48c8-a7e6-a95dd94bd345',\n",
       "       '924fe8ad-53d6-469f-98b5-38beb6cd9c4d',\n",
       "       'eea8a864-fcda-4602-9569-38ab446decd6',\n",
       "       '0110e63e-0a9b-4818-af8e-41e180c20b9a',\n",
       "       '4b585938-f271-45e2-b19a-91c634b5e396',\n",
       "       '0acae232-d31a-4211-b6d0-6af1b6350274',\n",
       "       '7ec4a553-73e5-4c0d-a071-a82b83a309e6',\n",
       "       '1b6ce503-df5f-45d5-86cf-54740c30042f',\n",
       "       '4d86ad4e-28d8-4e9f-8cf4-735c57060fdc',\n",
       "       '36bfa85f-737b-41db-a8fc-b8825850ffc3',\n",
       "       '03cfec4a-9885-444c-9e74-5fbab5861106',\n",
       "       'e9c832b0-384b-4ee6-aec0-111372784aac',\n",
       "       'ca891d65-d9b0-4258-89f7-e6ba29d83767',\n",
       "       '084308bd-1654-436f-ba03-df6697104e19',\n",
       "       '11c6b106-1c1f-429d-8407-b1ee155d7f72',\n",
       "       'e6de1f3b-6484-491c-88dd-6d619f142abc',\n",
       "       'a6bfadac-d028-4bda-a5b2-e1468f556569',\n",
       "       'c842d29f-a297-48cd-bb71-4f77fd672b16',\n",
       "       '72359492-22be-4ed9-aaa0-efa434fb2b01',\n",
       "       '674a7e8c-9682-419a-8e05-2358e28b5359',\n",
       "       'd2a79d20-1304-47fd-a998-b4fe1ec78373',\n",
       "       '4a4ee089-93b1-4470-af9a-6ff575d32704',\n",
       "       '44e14e88-b17a-44d8-9e94-f3afa977239b',\n",
       "       'd91b3683-4622-4d72-8a03-80f1ff59e639',\n",
       "       'f2fc6ece-5615-4d2c-9cb3-8c5d51a839ea',\n",
       "       'c7020c6d-cae9-4db3-92a7-e5c561cbad50',\n",
       "       'b21ef19b-c6aa-4775-90d3-3cc3e067ce6d',\n",
       "       'be540c02-7898-4b79-9acc-c8122c7d9e83',\n",
       "       '56abaa47-0101-463b-b37e-e961136fec39',\n",
       "       '65f4f0c5-ef9e-490c-aee3-909e7ae6b2ab',\n",
       "       'a11aacf5-fcbe-47f9-b065-75f4466c00ae',\n",
       "       '2d67239c-aa40-4ad5-a807-9052b66857a6',\n",
       "       'aeee5fe5-38f5-41bc-8ab8-9f9aa23e4f68',\n",
       "       '57805d77-f947-4851-b7fb-78baad154451',\n",
       "       'd4d17620-fd97-4574-92a8-a2cb7e72ce42',\n",
       "       '5bf64d94-efd9-4334-96fd-e6197b0b02b8',\n",
       "       '9d1ebcfe-4c15-4d18-95d3-d919898638a1',\n",
       "       '6e9ac29b-798c-4af7-8d9e-55cdc72a999c',\n",
       "       '83d91898-7763-47d7-b03b-b92132375c47',\n",
       "       '73fdb566-a9b1-494c-9f32-51768ec9fd27',\n",
       "       '630662ea-1c7d-4208-99fd-ba3afec20f0c',\n",
       "       '6ac47f31-3b2e-4f95-bef0-ce869af4ee98',\n",
       "       '944655bc-16b1-48d2-b4ff-f73654612fcf',\n",
       "       'bf710b71-48e5-4e15-9bd6-96debb2e4e98',\n",
       "       '29762c82-bb92-4acd-b1fb-09cc4da250d2',\n",
       "       '000fc734-b7e1-4a01-92d1-f544261b43f5',\n",
       "       '788ad31c-bf0c-4a31-83f8-b8b130d79c76',\n",
       "       'f7c65346-9631-4220-9188-5e90baae58d5',\n",
       "       'f47fc54d-b334-4321-8218-00c5b11d4dd1',\n",
       "       'bcbc08d6-4615-4f40-963c-5158ebe2b9e0',\n",
       "       'd89de379-665d-425c-b2e9-41b95d1edb36',\n",
       "       '10adbe5e-a2c0-4bf3-8249-2b4cbf6e6ca8',\n",
       "       '7249b899-8db8-43e7-9e6e-22f1e736024e',\n",
       "       '0c502791-4ee9-4c5f-9696-0602b721ff3b',\n",
       "       '3b221a54-54b9-435c-a7f3-5cf8e2ce9fb2',\n",
       "       'aa7a2827-f74b-473c-bd79-03d065835cf7',\n",
       "       '1a1cd7f3-e5df-4eca-bae2-2757c9e656b5',\n",
       "       'ea9078ef-20ca-4506-81ea-2ae5fe3a42e8',\n",
       "       '1eeaf46d-4991-4e95-8068-927627ccfc18',\n",
       "       '1b0b533e-9a62-4a95-9c68-f2e140dde9da',\n",
       "       '8b46a7e4-704d-4f8d-973a-a0ab8ea8249b',\n",
       "       '05071a7e-e71c-4306-a509-591cd3686893',\n",
       "       '453f1594-112e-4d3c-921a-8d14e9c97b2e',\n",
       "       'e1f1e33e-2e4c-4d43-b91b-7064068d3283',\n",
       "       '10a402b7-0e50-4479-b007-9cfdd5eaa287',\n",
       "       '95e9aba6-f85c-48a0-9ec9-395d4f0e3875',\n",
       "       'e9e2a634-984f-4c10-bf7b-7970179e1ef1',\n",
       "       '2fa0d3ac-b64c-401a-b0a1-4915ba6cc157',\n",
       "       'ac82cb46-f2b2-4f99-9cfa-d0c322a4ba16',\n",
       "       'c0b2500e-0cef-4130-869d-732b23ed9df5',\n",
       "       'e25216bf-b0ac-4bd3-bc5a-1f82a7d0274f',\n",
       "       '43b58c98-3779-4b04-9a23-1c95cca3a145',\n",
       "       'd7311646-287b-4d3a-9a4f-7d46f93075e5',\n",
       "       'b10bbbfc-cf9e-42e0-be17-e2c3e1d2600d',\n",
       "       'ef4db186-ff43-4708-a713-3ce1e05657a1',\n",
       "       'd614b0ad-fe3a-4927-b413-48cb831a814b',\n",
       "       '1ea2c08f-323c-4207-9af1-e2fb8588f08e',\n",
       "       'a6de8ef9-b1a1-4756-97aa-481bbb8a4069',\n",
       "       '82a5b152-ee60-4447-939a-dd5a91cd7c38',\n",
       "       '032f633a-db44-4ab4-af09-a892de2a8773',\n",
       "       '0c6b687a-1225-47a1-b6a9-55381755ecf4',\n",
       "       '22a40b75-affc-4e69-8884-266d087e4751',\n",
       "       'f59c5520-5f46-4d2c-b2c4-822eabf53419',\n",
       "       'a436dd02-0549-4c91-b608-df451217fdeb',\n",
       "       'fbcd7b29-455f-49e6-9c4f-8249d20a055e',\n",
       "       'e0953daa-860f-4dc8-9f1a-b12587cdaf17'], \n",
       "      dtype='|S36')"
      ]
     },
     "execution_count": 274,
     "metadata": {},
     "output_type": "execute_result"
    }
   ],
   "source": [
    "np.array(cols[364:])[nmf.components_[dim0,364:]>0]"
   ]
  },
  {
   "cell_type": "code",
   "execution_count": null,
   "metadata": {
    "collapsed": true
   },
   "outputs": [],
   "source": []
  },
  {
   "cell_type": "code",
   "execution_count": null,
   "metadata": {
    "collapsed": true
   },
   "outputs": [],
   "source": []
  },
  {
   "cell_type": "code",
   "execution_count": null,
   "metadata": {
    "collapsed": true
   },
   "outputs": [],
   "source": []
  },
  {
   "cell_type": "code",
   "execution_count": 184,
   "metadata": {
    "collapsed": false
   },
   "outputs": [
    {
     "name": "stdout",
     "output_type": "stream",
     "text": [
      "(233286L, 100L)\n",
      "Wall time: 2min 42s\n"
     ]
    }
   ],
   "source": [
    "%%time\n",
    "print nmf.components_.shape\n",
    "print nmf.transform(m).shape"
   ]
  },
  {
   "cell_type": "code",
   "execution_count": null,
   "metadata": {
    "collapsed": true
   },
   "outputs": [],
   "source": []
  }
 ],
 "metadata": {
  "kernelspec": {
   "display_name": "Python 2",
   "language": "python",
   "name": "python2"
  },
  "language_info": {
   "codemirror_mode": {
    "name": "ipython",
    "version": 2
   },
   "file_extension": ".py",
   "mimetype": "text/x-python",
   "name": "python",
   "nbconvert_exporter": "python",
   "pygments_lexer": "ipython2",
   "version": "2.7.10"
  }
 },
 "nbformat": 4,
 "nbformat_minor": 0
}

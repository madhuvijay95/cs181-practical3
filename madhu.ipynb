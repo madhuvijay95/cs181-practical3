{
 "cells": [
  {
   "cell_type": "code",
   "execution_count": 35,
   "metadata": {
    "collapsed": true
   },
   "outputs": [],
   "source": [
    "%matplotlib inline\n",
    "import pandas as pd\n",
    "import numpy as np\n",
    "import matplotlib.pyplot as plt\n",
    "from scipy import sparse\n",
    "import cPickle as pickle"
   ]
  },
  {
   "cell_type": "code",
   "execution_count": 2,
   "metadata": {
    "collapsed": false
   },
   "outputs": [
    {
     "name": "stdout",
     "output_type": "stream",
     "text": [
      "Wall time: 16.9 s\n"
     ]
    }
   ],
   "source": [
    "%%time\n",
    "train_df = pd.read_csv('train.csv')\n",
    "artist_df = pd.read_csv('artists.csv')\n",
    "profile_df = pd.read_csv('profiles.csv')"
   ]
  },
  {
   "cell_type": "code",
   "execution_count": 3,
   "metadata": {
    "collapsed": false
   },
   "outputs": [],
   "source": [
    "profile_df.set_index('user', inplace=True)"
   ]
  },
  {
   "cell_type": "code",
   "execution_count": 4,
   "metadata": {
    "collapsed": false
   },
   "outputs": [
    {
     "name": "stdout",
     "output_type": "stream",
     "text": [
      "(233286, 3)\n"
     ]
    },
    {
     "data": {
      "text/html": [
       "<div>\n",
       "<table border=\"1\" class=\"dataframe\">\n",
       "  <thead>\n",
       "    <tr style=\"text-align: right;\">\n",
       "      <th></th>\n",
       "      <th>sex</th>\n",
       "      <th>age</th>\n",
       "      <th>country</th>\n",
       "    </tr>\n",
       "    <tr>\n",
       "      <th>user</th>\n",
       "      <th></th>\n",
       "      <th></th>\n",
       "      <th></th>\n",
       "    </tr>\n",
       "  </thead>\n",
       "  <tbody>\n",
       "    <tr>\n",
       "      <th>fa40b43298ba3f8aa52e8e8863faf2e2171e0b5d</th>\n",
       "      <td>f</td>\n",
       "      <td>25</td>\n",
       "      <td>Sweden</td>\n",
       "    </tr>\n",
       "    <tr>\n",
       "      <th>5909125332c108365a26ccf0ee62636eee08215c</th>\n",
       "      <td>m</td>\n",
       "      <td>29</td>\n",
       "      <td>Iceland</td>\n",
       "    </tr>\n",
       "    <tr>\n",
       "      <th>d1867cbda35e0d48e9a8390d9f5e079c9d99ea96</th>\n",
       "      <td>m</td>\n",
       "      <td>30</td>\n",
       "      <td>United States</td>\n",
       "    </tr>\n",
       "    <tr>\n",
       "      <th>63268cce0d68127729890c1691f62d5be5abd87c</th>\n",
       "      <td>m</td>\n",
       "      <td>21</td>\n",
       "      <td>Germany</td>\n",
       "    </tr>\n",
       "    <tr>\n",
       "      <th>02871cd952d607ba69b64e2e107773012c708113</th>\n",
       "      <td>m</td>\n",
       "      <td>24</td>\n",
       "      <td>Netherlands</td>\n",
       "    </tr>\n",
       "  </tbody>\n",
       "</table>\n",
       "</div>"
      ],
      "text/plain": [
       "                                         sex  age        country\n",
       "user                                                            \n",
       "fa40b43298ba3f8aa52e8e8863faf2e2171e0b5d   f   25         Sweden\n",
       "5909125332c108365a26ccf0ee62636eee08215c   m   29        Iceland\n",
       "d1867cbda35e0d48e9a8390d9f5e079c9d99ea96   m   30  United States\n",
       "63268cce0d68127729890c1691f62d5be5abd87c   m   21        Germany\n",
       "02871cd952d607ba69b64e2e107773012c708113   m   24    Netherlands"
      ]
     },
     "execution_count": 4,
     "metadata": {},
     "output_type": "execute_result"
    }
   ],
   "source": [
    "print profile_df.shape\n",
    "profile_df.head()"
   ]
  },
  {
   "cell_type": "code",
   "execution_count": 5,
   "metadata": {
    "collapsed": false
   },
   "outputs": [
    {
     "name": "stdout",
     "output_type": "stream",
     "text": [
      "(233286, 13)\n",
      "Wall time: 197 ms\n"
     ]
    }
   ],
   "source": [
    "%%time\n",
    "for k in range(10):\n",
    "    profile_df[str(10*k) + 's'] = ((profile_df.age >= 10*k) & (profile_df.age < 10*k+10)).astype(int)\n",
    "print profile_df.shape"
   ]
  },
  {
   "cell_type": "code",
   "execution_count": 6,
   "metadata": {
    "collapsed": false
   },
   "outputs": [
    {
     "name": "stdout",
     "output_type": "stream",
     "text": [
      "Wall time: 3.3 s\n"
     ]
    }
   ],
   "source": [
    "%%time\n",
    "profile_df = pd.concat([profile_df, pd.get_dummies(profile_df.sex)], axis=1)\n",
    "profile_df = pd.concat([profile_df, pd.get_dummies(profile_df.age)], axis=1)\n",
    "profile_df = pd.concat([profile_df, pd.get_dummies(profile_df.country)], axis=1)"
   ]
  },
  {
   "cell_type": "code",
   "execution_count": 7,
   "metadata": {
    "collapsed": true
   },
   "outputs": [],
   "source": [
    "del profile_df['sex']\n",
    "del profile_df['age']\n",
    "del profile_df['country']"
   ]
  },
  {
   "cell_type": "code",
   "execution_count": 8,
   "metadata": {
    "collapsed": false
   },
   "outputs": [
    {
     "name": "stdout",
     "output_type": "stream",
     "text": [
      "(233286, 364)\n"
     ]
    },
    {
     "data": {
      "text/html": [
       "<div>\n",
       "<table border=\"1\" class=\"dataframe\">\n",
       "  <thead>\n",
       "    <tr style=\"text-align: right;\">\n",
       "      <th></th>\n",
       "      <th>0s</th>\n",
       "      <th>10s</th>\n",
       "      <th>20s</th>\n",
       "      <th>30s</th>\n",
       "      <th>40s</th>\n",
       "      <th>50s</th>\n",
       "      <th>60s</th>\n",
       "      <th>70s</th>\n",
       "      <th>80s</th>\n",
       "      <th>90s</th>\n",
       "      <th>...</th>\n",
       "      <th>Vanuatu</th>\n",
       "      <th>Venezuela</th>\n",
       "      <th>Viet Nam</th>\n",
       "      <th>Virgin Islands, British</th>\n",
       "      <th>Virgin Islands, U.s.</th>\n",
       "      <th>Wallis and Futuna</th>\n",
       "      <th>Western Sahara</th>\n",
       "      <th>Yemen</th>\n",
       "      <th>Zambia</th>\n",
       "      <th>Zimbabwe</th>\n",
       "    </tr>\n",
       "    <tr>\n",
       "      <th>user</th>\n",
       "      <th></th>\n",
       "      <th></th>\n",
       "      <th></th>\n",
       "      <th></th>\n",
       "      <th></th>\n",
       "      <th></th>\n",
       "      <th></th>\n",
       "      <th></th>\n",
       "      <th></th>\n",
       "      <th></th>\n",
       "      <th></th>\n",
       "      <th></th>\n",
       "      <th></th>\n",
       "      <th></th>\n",
       "      <th></th>\n",
       "      <th></th>\n",
       "      <th></th>\n",
       "      <th></th>\n",
       "      <th></th>\n",
       "      <th></th>\n",
       "      <th></th>\n",
       "    </tr>\n",
       "  </thead>\n",
       "  <tbody>\n",
       "    <tr>\n",
       "      <th>fa40b43298ba3f8aa52e8e8863faf2e2171e0b5d</th>\n",
       "      <td>0</td>\n",
       "      <td>0</td>\n",
       "      <td>1</td>\n",
       "      <td>0</td>\n",
       "      <td>0</td>\n",
       "      <td>0</td>\n",
       "      <td>0</td>\n",
       "      <td>0</td>\n",
       "      <td>0</td>\n",
       "      <td>0</td>\n",
       "      <td>...</td>\n",
       "      <td>0</td>\n",
       "      <td>0</td>\n",
       "      <td>0</td>\n",
       "      <td>0</td>\n",
       "      <td>0</td>\n",
       "      <td>0</td>\n",
       "      <td>0</td>\n",
       "      <td>0</td>\n",
       "      <td>0</td>\n",
       "      <td>0</td>\n",
       "    </tr>\n",
       "    <tr>\n",
       "      <th>5909125332c108365a26ccf0ee62636eee08215c</th>\n",
       "      <td>0</td>\n",
       "      <td>0</td>\n",
       "      <td>1</td>\n",
       "      <td>0</td>\n",
       "      <td>0</td>\n",
       "      <td>0</td>\n",
       "      <td>0</td>\n",
       "      <td>0</td>\n",
       "      <td>0</td>\n",
       "      <td>0</td>\n",
       "      <td>...</td>\n",
       "      <td>0</td>\n",
       "      <td>0</td>\n",
       "      <td>0</td>\n",
       "      <td>0</td>\n",
       "      <td>0</td>\n",
       "      <td>0</td>\n",
       "      <td>0</td>\n",
       "      <td>0</td>\n",
       "      <td>0</td>\n",
       "      <td>0</td>\n",
       "    </tr>\n",
       "    <tr>\n",
       "      <th>d1867cbda35e0d48e9a8390d9f5e079c9d99ea96</th>\n",
       "      <td>0</td>\n",
       "      <td>0</td>\n",
       "      <td>0</td>\n",
       "      <td>1</td>\n",
       "      <td>0</td>\n",
       "      <td>0</td>\n",
       "      <td>0</td>\n",
       "      <td>0</td>\n",
       "      <td>0</td>\n",
       "      <td>0</td>\n",
       "      <td>...</td>\n",
       "      <td>0</td>\n",
       "      <td>0</td>\n",
       "      <td>0</td>\n",
       "      <td>0</td>\n",
       "      <td>0</td>\n",
       "      <td>0</td>\n",
       "      <td>0</td>\n",
       "      <td>0</td>\n",
       "      <td>0</td>\n",
       "      <td>0</td>\n",
       "    </tr>\n",
       "    <tr>\n",
       "      <th>63268cce0d68127729890c1691f62d5be5abd87c</th>\n",
       "      <td>0</td>\n",
       "      <td>0</td>\n",
       "      <td>1</td>\n",
       "      <td>0</td>\n",
       "      <td>0</td>\n",
       "      <td>0</td>\n",
       "      <td>0</td>\n",
       "      <td>0</td>\n",
       "      <td>0</td>\n",
       "      <td>0</td>\n",
       "      <td>...</td>\n",
       "      <td>0</td>\n",
       "      <td>0</td>\n",
       "      <td>0</td>\n",
       "      <td>0</td>\n",
       "      <td>0</td>\n",
       "      <td>0</td>\n",
       "      <td>0</td>\n",
       "      <td>0</td>\n",
       "      <td>0</td>\n",
       "      <td>0</td>\n",
       "    </tr>\n",
       "    <tr>\n",
       "      <th>02871cd952d607ba69b64e2e107773012c708113</th>\n",
       "      <td>0</td>\n",
       "      <td>0</td>\n",
       "      <td>1</td>\n",
       "      <td>0</td>\n",
       "      <td>0</td>\n",
       "      <td>0</td>\n",
       "      <td>0</td>\n",
       "      <td>0</td>\n",
       "      <td>0</td>\n",
       "      <td>0</td>\n",
       "      <td>...</td>\n",
       "      <td>0</td>\n",
       "      <td>0</td>\n",
       "      <td>0</td>\n",
       "      <td>0</td>\n",
       "      <td>0</td>\n",
       "      <td>0</td>\n",
       "      <td>0</td>\n",
       "      <td>0</td>\n",
       "      <td>0</td>\n",
       "      <td>0</td>\n",
       "    </tr>\n",
       "  </tbody>\n",
       "</table>\n",
       "<p>5 rows × 364 columns</p>\n",
       "</div>"
      ],
      "text/plain": [
       "                                          0s  10s  20s  30s  40s  50s  60s  \\\n",
       "user                                                                         \n",
       "fa40b43298ba3f8aa52e8e8863faf2e2171e0b5d   0    0    1    0    0    0    0   \n",
       "5909125332c108365a26ccf0ee62636eee08215c   0    0    1    0    0    0    0   \n",
       "d1867cbda35e0d48e9a8390d9f5e079c9d99ea96   0    0    0    1    0    0    0   \n",
       "63268cce0d68127729890c1691f62d5be5abd87c   0    0    1    0    0    0    0   \n",
       "02871cd952d607ba69b64e2e107773012c708113   0    0    1    0    0    0    0   \n",
       "\n",
       "                                          70s  80s  90s    ...     Vanuatu  \\\n",
       "user                                                       ...               \n",
       "fa40b43298ba3f8aa52e8e8863faf2e2171e0b5d    0    0    0    ...           0   \n",
       "5909125332c108365a26ccf0ee62636eee08215c    0    0    0    ...           0   \n",
       "d1867cbda35e0d48e9a8390d9f5e079c9d99ea96    0    0    0    ...           0   \n",
       "63268cce0d68127729890c1691f62d5be5abd87c    0    0    0    ...           0   \n",
       "02871cd952d607ba69b64e2e107773012c708113    0    0    0    ...           0   \n",
       "\n",
       "                                          Venezuela  Viet Nam  \\\n",
       "user                                                            \n",
       "fa40b43298ba3f8aa52e8e8863faf2e2171e0b5d          0         0   \n",
       "5909125332c108365a26ccf0ee62636eee08215c          0         0   \n",
       "d1867cbda35e0d48e9a8390d9f5e079c9d99ea96          0         0   \n",
       "63268cce0d68127729890c1691f62d5be5abd87c          0         0   \n",
       "02871cd952d607ba69b64e2e107773012c708113          0         0   \n",
       "\n",
       "                                          Virgin Islands, British  \\\n",
       "user                                                                \n",
       "fa40b43298ba3f8aa52e8e8863faf2e2171e0b5d                        0   \n",
       "5909125332c108365a26ccf0ee62636eee08215c                        0   \n",
       "d1867cbda35e0d48e9a8390d9f5e079c9d99ea96                        0   \n",
       "63268cce0d68127729890c1691f62d5be5abd87c                        0   \n",
       "02871cd952d607ba69b64e2e107773012c708113                        0   \n",
       "\n",
       "                                          Virgin Islands, U.s.  \\\n",
       "user                                                             \n",
       "fa40b43298ba3f8aa52e8e8863faf2e2171e0b5d                     0   \n",
       "5909125332c108365a26ccf0ee62636eee08215c                     0   \n",
       "d1867cbda35e0d48e9a8390d9f5e079c9d99ea96                     0   \n",
       "63268cce0d68127729890c1691f62d5be5abd87c                     0   \n",
       "02871cd952d607ba69b64e2e107773012c708113                     0   \n",
       "\n",
       "                                          Wallis and Futuna  Western Sahara  \\\n",
       "user                                                                          \n",
       "fa40b43298ba3f8aa52e8e8863faf2e2171e0b5d                  0               0   \n",
       "5909125332c108365a26ccf0ee62636eee08215c                  0               0   \n",
       "d1867cbda35e0d48e9a8390d9f5e079c9d99ea96                  0               0   \n",
       "63268cce0d68127729890c1691f62d5be5abd87c                  0               0   \n",
       "02871cd952d607ba69b64e2e107773012c708113                  0               0   \n",
       "\n",
       "                                          Yemen  Zambia  Zimbabwe  \n",
       "user                                                               \n",
       "fa40b43298ba3f8aa52e8e8863faf2e2171e0b5d      0       0         0  \n",
       "5909125332c108365a26ccf0ee62636eee08215c      0       0         0  \n",
       "d1867cbda35e0d48e9a8390d9f5e079c9d99ea96      0       0         0  \n",
       "63268cce0d68127729890c1691f62d5be5abd87c      0       0         0  \n",
       "02871cd952d607ba69b64e2e107773012c708113      0       0         0  \n",
       "\n",
       "[5 rows x 364 columns]"
      ]
     },
     "execution_count": 8,
     "metadata": {},
     "output_type": "execute_result"
    }
   ],
   "source": [
    "print profile_df.shape\n",
    "profile_df.head()"
   ]
  },
  {
   "cell_type": "code",
   "execution_count": 14,
   "metadata": {
    "collapsed": false
   },
   "outputs": [
    {
     "data": {
      "text/plain": [
       "<233286x364 sparse matrix of type '<type 'numpy.float64'>'\n",
       "\twith 823169 stored elements in LInked List format>"
      ]
     },
     "execution_count": 14,
     "metadata": {},
     "output_type": "execute_result"
    }
   ],
   "source": [
    "m = sparse.lil_matrix(profile_df.values)\n",
    "m"
   ]
  },
  {
   "cell_type": "code",
   "execution_count": 15,
   "metadata": {
    "collapsed": false
   },
   "outputs": [
    {
     "data": {
      "text/plain": [
       "<233286x2364 sparse matrix of type '<type 'numpy.float64'>'\n",
       "\twith 823169 stored elements in LInked List format>"
      ]
     },
     "execution_count": 15,
     "metadata": {},
     "output_type": "execute_result"
    }
   ],
   "source": [
    "cols = list(profile_df.columns)\n",
    "artist_list = [tup[1] for tup in artist_df.itertuples()]\n",
    "\n",
    "cols.extend(artist_list)\n",
    "m = sparse.hstack((m, sparse.csr_matrix((m.shape[0], len(artist_list)))), format='lil')\n",
    "m"
   ]
  },
  {
   "cell_type": "code",
   "execution_count": 16,
   "metadata": {
    "collapsed": true
   },
   "outputs": [],
   "source": [
    "col_dict = {col:i for i,col in enumerate(cols)}"
   ]
  },
  {
   "cell_type": "code",
   "execution_count": 17,
   "metadata": {
    "collapsed": true
   },
   "outputs": [],
   "source": [
    "row_dict = {row:i for i, row in enumerate(profile_df.index)}"
   ]
  },
  {
   "cell_type": "code",
   "execution_count": null,
   "metadata": {
    "collapsed": true
   },
   "outputs": [],
   "source": []
  },
  {
   "cell_type": "code",
   "execution_count": 29,
   "metadata": {
    "collapsed": false
   },
   "outputs": [
    {
     "name": "stdout",
     "output_type": "stream",
     "text": [
      "Wall time: 1min 5s\n"
     ]
    }
   ],
   "source": [
    "%%time\n",
    "for row in train_df.itertuples():\n",
    "    m[row_dict[row[1]], col_dict[row[2]]] = row[3]"
   ]
  },
  {
   "cell_type": "code",
   "execution_count": 32,
   "metadata": {
    "collapsed": false
   },
   "outputs": [],
   "source": [
    "m = m.tocsr()"
   ]
  },
  {
   "cell_type": "code",
   "execution_count": 36,
   "metadata": {
    "collapsed": false
   },
   "outputs": [
    {
     "name": "stdout",
     "output_type": "stream",
     "text": [
      "Wall time: 24.7 s\n"
     ]
    }
   ],
   "source": [
    "%%time\n",
    "with open('data.p', 'w') as p:\n",
    "    pickle.dump((row_dict, col_dict, m), p)"
   ]
  },
  {
   "cell_type": "markdown",
   "metadata": {},
   "source": [
    "###Clustering"
   ]
  },
  {
   "cell_type": "code",
   "execution_count": 76,
   "metadata": {
    "collapsed": false
   },
   "outputs": [],
   "source": [
    "from sklearn.decomposition import PCA, SparsePCA, MiniBatchSparsePCA\n",
    "from sklearn.preprocessing import MaxAbsScaler"
   ]
  },
  {
   "cell_type": "code",
   "execution_count": 104,
   "metadata": {
    "collapsed": false
   },
   "outputs": [],
   "source": [
    "scaler = MaxAbsScaler()\n",
    "m = scaler.fit_transform(m)"
   ]
  },
  {
   "cell_type": "code",
   "execution_count": 105,
   "metadata": {
    "collapsed": true
   },
   "outputs": [],
   "source": [
    "pca = MiniBatchSparsePCA(n_components=10)"
   ]
  },
  {
   "cell_type": "code",
   "execution_count": 112,
   "metadata": {
    "collapsed": false
   },
   "outputs": [
    {
     "name": "stdout",
     "output_type": "stream",
     "text": [
      "Wall time: 21.3 s\n"
     ]
    },
    {
     "data": {
      "text/plain": [
       "MiniBatchSparsePCA(alpha=1, batch_size=3, callback=None, method='lars',\n",
       "          n_components=10, n_iter=100, n_jobs=1, random_state=None,\n",
       "          ridge_alpha=0.01, shuffle=True, verbose=False)"
      ]
     },
     "execution_count": 112,
     "metadata": {},
     "output_type": "execute_result"
    }
   ],
   "source": [
    "%%time\n",
    "pca.fit(m[0:100000,:].toarray())"
   ]
  },
  {
   "cell_type": "code",
   "execution_count": 150,
   "metadata": {
    "collapsed": false
   },
   "outputs": [
    {
     "name": "stdout",
     "output_type": "stream",
     "text": [
      "[0, 1, 0, 0, 2, 0, 0, 0, 1, 21]\n",
      "['20s' 'f' 'm' '20.0' 'Australia' 'Brazil' 'Canada' 'Finland' 'France'\n",
      " 'Germany' 'Italy' 'Mexico' 'Netherlands' 'Norway' 'Poland'\n",
      " 'Russian Federation' 'Spain' 'Sweden' 'Turkey' 'United Kingdom'\n",
      " 'United States']\n"
     ]
    }
   ],
   "source": [
    "print map(lambda k : sum(pca.components_[k] != 0), range(10))\n",
    "print np.array(cols)[pca.components_[9]!=0]"
   ]
  }
 ],
 "metadata": {
  "kernelspec": {
   "display_name": "Python 2",
   "language": "python",
   "name": "python2"
  },
  "language_info": {
   "codemirror_mode": {
    "name": "ipython",
    "version": 2
   },
   "file_extension": ".py",
   "mimetype": "text/x-python",
   "name": "python",
   "nbconvert_exporter": "python",
   "pygments_lexer": "ipython2",
   "version": "2.7.10"
  }
 },
 "nbformat": 4,
 "nbformat_minor": 0
}

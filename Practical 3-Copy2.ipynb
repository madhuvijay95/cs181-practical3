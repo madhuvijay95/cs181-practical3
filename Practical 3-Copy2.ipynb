{
 "cells": [
  {
   "cell_type": "code",
   "execution_count": null,
   "metadata": {
    "collapsed": false
   },
   "outputs": [],
   "source": []
  },
  {
   "cell_type": "code",
   "execution_count": 107,
   "metadata": {
    "collapsed": false
   },
   "outputs": [],
   "source": [
    "import numpy as np\n",
    "import csv\n",
    "import math\n",
    "\n",
    "train_file = 'train.csv'\n",
    "test_file  = 'test.csv'\n",
    "soln_file  = 'user_median.csv'\n",
    "\n",
    "#parameters\n",
    "train_size = 1\n",
    "K = 5\n",
    "learn_rate = 0.000002\n",
    "learn_rate2 =0.000002\n",
    "iterations = 7\n",
    "penalty = .02\n",
    "epochs = 10\n",
    "init = 40\n",
    "\n",
    "\n",
    "#load CSV\n",
    "train_data = {}\n",
    "test_data = {}\n",
    "ndata = 0\n",
    "with open(train_file, 'r') as train_fh:\n",
    "    ndata = sum(1 for row in train_fh) - 1\n",
    "    \n",
    "splitting = np.random.binomial(1, train_size, size=ndata)\n"
   ]
  },
  {
   "cell_type": "code",
   "execution_count": 108,
   "metadata": {
    "collapsed": false
   },
   "outputs": [],
   "source": [
    "with open(train_file, 'r') as train_fh:\n",
    "    train_csv = csv.reader(train_fh, delimiter=',', quotechar='\"')\n",
    "    next(train_csv, None)\n",
    "    \n",
    "    for i, row, in enumerate(train_csv):\n",
    "        user   = row[0]\n",
    "        artist = row[1]\n",
    "        plays  = row[2]\n",
    "\n",
    "        if splitting[i]: \n",
    "            if not user in train_data:\n",
    "                train_data[user] = {}\n",
    "            train_data[user][artist] = int(plays)\n",
    "            \n",
    "        else:\n",
    "            if not user in test_data:\n",
    "                test_data[user] = {}\n",
    "\n",
    "            test_data[user][artist] = int(plays)\n",
    "              \n",
    "# Compute the global median and per-user median.\n",
    "plays_array  = []\n",
    "user_medians = {}\n",
    "for user, user_data in train_data.iteritems():\n",
    "    user_plays = []\n",
    "    for artist, plays in user_data.iteritems():\n",
    "        plays_array.append(plays)\n",
    "        user_plays.append(plays)\n",
    "\n",
    "    user_medians[user] = np.median(np.array(user_plays))\n",
    "global_median = np.median(np.array(plays_array))"
   ]
  },
  {
   "cell_type": "code",
   "execution_count": 109,
   "metadata": {
    "collapsed": false
   },
   "outputs": [
    {
     "name": "stdout",
     "output_type": "stream",
     "text": [
      "5\n"
     ]
    }
   ],
   "source": [
    "user_mat = []\n",
    "artist_mat = []\n",
    "\n",
    "user_bias = {}\n",
    "artist_bias = {}\n",
    "\n",
    "\n",
    "\n",
    "for k in range(K):\n",
    "    print \"\\r\", k,\n",
    "    user_mat.append({})\n",
    "    artist_mat.append({})\n",
    "    \n",
    "    for user, user_data in train_data.iteritems():\n",
    "        if not user in user_mat[k]:\n",
    "            user_mat[k][user] = np.random.rand()\n",
    "        if not user in user_bias:\n",
    "            user_bias[user] = init*np.random.rand()\n",
    "        for artist, plays in user_data.iteritems():\n",
    "            if not artist in artist_bias:\n",
    "                artist_bias[artist] = init*np.random.rand()\n",
    "            if not artist in artist_mat[k]:\n",
    "                artist_mat[k][artist] = np.random.rand()"
   ]
  },
  {
   "cell_type": "code",
   "execution_count": 110,
   "metadata": {
    "collapsed": false
   },
   "outputs": [],
   "source": [
    "def predict(user, artist):\n",
    "    return sum([user_mat[k][user] * artist_mat[k][artist] for k in range(K)]) + user_bias[user] + artist_bias[artist]\n",
    "\n",
    "def modify(user, artist, prediction):\n",
    "    newpred = (1 - weight_user_median)*prediction + weight_user_median*(user_medians[user])\n",
    "    if newpred < 0:\n",
    "        return 0\n",
    "    else:\n",
    "        return newpred\n",
    "\n",
    "def train_biases(data):\n",
    "    for e in range(epochs):\n",
    "        for i, (user, user_data) in enumerate(train_data.iteritems()):\n",
    "                if i % 10000 == 0:\n",
    "                    print \"\\r\", e,epochs,i,\n",
    "\n",
    "                for artist, plays in user_data.iteritems():  \n",
    "                    artist_bias[artist] += learn_rate2*(plays - predict(user,artist))\n",
    "                    user_bias[user] += learn_rate2*(plays - predict(user,artist))\n",
    "                    \n",
    "def train(data):\n",
    "    for i in range(iterations):\n",
    "        for k in range(K):\n",
    "            user_feature = user_mat[k]\n",
    "            artist_feature = artist_mat[k]\n",
    "\n",
    "            for j, (user, user_data) in enumerate(train_data.iteritems()):\n",
    "                if j % 10000 == 0:\n",
    "                    print \"\\r\", i,j,k,K,\n",
    "\n",
    "                for artist, plays in user_data.iteritems(): \n",
    "                    user_feature[user] += learn_rate * (artist_feature[artist] * (plays - predict(user, artist)) - penalty*user_feature[user])\n",
    "                    artist_feature[artist] += learn_rate * (user_feature[user] * (plays - predict(user, artist)) - penalty*artist_feature[artist])\n",
    "\n",
    "          \n",
    "                \n",
    "           \n"
   ]
  },
  {
   "cell_type": "code",
   "execution_count": 111,
   "metadata": {
    "collapsed": false
   },
   "outputs": [
    {
     "name": "stdout",
     "output_type": "stream",
     "text": [
      "9 10 230000CPU times: user 4min 17s, sys: 330 ms, total: 4min 17s\n",
      "Wall time: 4min 19s\n",
      "\n"
     ]
    }
   ],
   "source": [
    "%%time\n",
    "\n",
    "train_biases(train_data)"
   ]
  },
  {
   "cell_type": "code",
   "execution_count": null,
   "metadata": {
    "collapsed": false
   },
   "outputs": [
    {
     "name": "stdout",
     "output_type": "stream",
     "text": [
      "0 80000 0 5 "
     ]
    }
   ],
   "source": [
    "%%time\n",
    "train_size = 1\n",
    "K = 5\n",
    "learn_rate = 0.000002\n",
    "learn_rate2 =0.000002\n",
    "iterations = 7\n",
    "penalty = .02\n",
    "epochs = 10\n",
    "init = 40\n",
    "train(train_data)"
   ]
  },
  {
   "cell_type": "code",
   "execution_count": null,
   "metadata": {
    "collapsed": false
   },
   "outputs": [],
   "source": [
    "def calc_error(data):\n",
    "    errors = []\n",
    "\n",
    "    for j, (user, user_data) in enumerate(data.iteritems()):\n",
    "        if j % 10000 == 0:\n",
    "            print \"\\r\", j,\n",
    "        for artist, plays in user_data.iteritems():\n",
    "            pred = predict(user,artist)\n",
    "            \n",
    "            newpred = modify(user,artist,pred)\n",
    "            error = abs(plays - newpred)\n",
    "            errors.append(error)\n",
    "    return (sum(np.array(errors))/len(errors))\n",
    "\n",
    "weight_user_median = .95\n",
    "#print calc_error(test_data)\n"
   ]
  },
  {
   "cell_type": "code",
   "execution_count": null,
   "metadata": {
    "collapsed": false
   },
   "outputs": [],
   "source": []
  },
  {
   "cell_type": "code",
   "execution_count": null,
   "metadata": {
    "collapsed": false
   },
   "outputs": [],
   "source": []
  },
  {
   "cell_type": "code",
   "execution_count": null,
   "metadata": {
    "collapsed": false
   },
   "outputs": [],
   "source": [
    "\n",
    "with open(test_file, 'r') as test_fh:\n",
    "    with open('predictions_5.csv', 'w') as test_output:\n",
    "        test_csv = csv.reader(test_fh, delimiter=',', quotechar='\"')\n",
    "        next(test_csv, None)\n",
    "        writer = csv.writer(test_output)\n",
    "        writer.writerow(('Id', 'plays'))\n",
    "\n",
    "        for i, row in enumerate(test_csv):\n",
    "            if i % 10000 == 0:\n",
    "                print '\\r', i,\n",
    "            pred_id = row[0]\n",
    "            user = row[1]\n",
    "            artist = row[2]\n",
    "            pred = predict(user,artist)\n",
    "            newpred = modify(user,artist,pred)\n",
    "            writer.writerow((pred_id, newpred))"
   ]
  },
  {
   "cell_type": "code",
   "execution_count": null,
   "metadata": {
    "collapsed": false
   },
   "outputs": [],
   "source": []
  },
  {
   "cell_type": "code",
   "execution_count": null,
   "metadata": {
    "collapsed": true
   },
   "outputs": [],
   "source": []
  }
 ],
 "metadata": {
  "kernelspec": {
   "display_name": "Python 2",
   "language": "python",
   "name": "python2"
  },
  "language_info": {
   "codemirror_mode": {
    "name": "ipython",
    "version": 2
   },
   "file_extension": ".py",
   "mimetype": "text/x-python",
   "name": "python",
   "nbconvert_exporter": "python",
   "pygments_lexer": "ipython2",
   "version": "2.7.11"
  }
 },
 "nbformat": 4,
 "nbformat_minor": 0
}

{
 "cells": [
  {
   "cell_type": "code",
   "execution_count": 168,
   "metadata": {
    "collapsed": false
   },
   "outputs": [],
   "source": [
    "import numpy as np\n",
    "import csv\n",
    "import math\n",
    "\n",
    "train_file = 'train.csv'\n",
    "test_file  = 'test.csv'\n",
    "soln_file  = 'user_median.csv'\n",
    "\n",
    "train_size = .9\n",
    "K = 30\n",
    "learn_rate = 0.0000001\n",
    "iterations = 10\n",
    "w = .2\n",
    "weight_user_median = .8\n",
    "penalty = .05\n",
    "\n",
    "\n",
    "#load CSV\n",
    "train_data = {}\n",
    "test_data = {}\n",
    "ndata = 0\n",
    "with open(train_file, 'r') as train_fh:\n",
    "    ndata = sum(1 for row in train_fh) - 1\n",
    "    \n",
    "splitting = np.random.binomial(1, train_size, size=ndata)\n"
   ]
  },
  {
   "cell_type": "code",
   "execution_count": 169,
   "metadata": {
    "collapsed": false
   },
   "outputs": [],
   "source": [
    "with open(train_file, 'r') as train_fh:\n",
    "    train_csv = csv.reader(train_fh, delimiter=',', quotechar='\"')\n",
    "    next(train_csv, None)\n",
    "    \n",
    "    for i, row, in enumerate(train_csv):\n",
    "        user   = row[0]\n",
    "        artist = row[1]\n",
    "        plays  = row[2]\n",
    "\n",
    "        if splitting[i]: \n",
    "            if not user in train_data:\n",
    "                train_data[user] = {}\n",
    "            train_data[user][artist] = int(plays)\n",
    "            \n",
    "        else:\n",
    "            if not user in test_data:\n",
    "                test_data[user] = {}\n",
    "\n",
    "            test_data[user][artist] = int(plays)\n",
    "              \n",
    "# Compute the global median and per-user median.\n",
    "plays_array  = []\n",
    "user_medians = {}\n",
    "for user, user_data in train_data.iteritems():\n",
    "    user_plays = []\n",
    "    for artist, plays in user_data.iteritems():\n",
    "        plays_array.append(plays)\n",
    "        user_plays.append(plays)\n",
    "\n",
    "    user_medians[user] = np.median(np.array(user_plays))\n",
    "global_median = np.median(np.array(plays_array))"
   ]
  },
  {
   "cell_type": "code",
   "execution_count": 170,
   "metadata": {
    "collapsed": false
   },
   "outputs": [
    {
     "name": "stdout",
     "output_type": "stream",
     "text": [
      "29 233286\n"
     ]
    }
   ],
   "source": [
    "user_mat = []\n",
    "artist_mat = []\n",
    "\n",
    "artist_plays = {}\n",
    "for k in range(K):\n",
    "    print \"\\r\", k,\n",
    "    user_mat.append({})\n",
    "    artist_mat.append({})\n",
    "    \n",
    "    for user, user_data in train_data.iteritems():\n",
    "        if not user in user_mat[k]:\n",
    "            user_mat[k][user] = np.random.rand()\n",
    "        for artist, plays in user_data.iteritems():\n",
    "            if not artist in artist_plays:\n",
    "                artist_plays[artist] = []\n",
    "            artist_plays[artist].append(plays)\n",
    "            if not artist in artist_mat[k]:\n",
    "                artist_mat[k][artist] = np.random.rand()\n",
    "\n",
    "print len(user_mat[1])\n"
   ]
  },
  {
   "cell_type": "code",
   "execution_count": 171,
   "metadata": {
    "collapsed": false
   },
   "outputs": [],
   "source": [
    "artist_meds = {}\n",
    "for artist in artist_plays.keys():\n",
    "    artist_meds[artist] = np.median(np.array(artist_plays[artist]))"
   ]
  },
  {
   "cell_type": "code",
   "execution_count": 172,
   "metadata": {
    "collapsed": false
   },
   "outputs": [
    {
     "name": "stdout",
     "output_type": "stream",
     "text": [
      "116.0\n"
     ]
    }
   ],
   "source": [
    "i = 10\n",
    "test_artist = artist_plays.keys()[i]\n",
    "\n",
    "print artist_meds[test_artist]\n"
   ]
  },
  {
   "cell_type": "code",
   "execution_count": 173,
   "metadata": {
    "collapsed": false
   },
   "outputs": [
    {
     "name": "stdout",
     "output_type": "stream",
     "text": [
      "9 29 230000 0.449389992043\n",
      "Wall time: 4h 26min 24s\n",
      "Parser   : 130 ms\n"
     ]
    }
   ],
   "source": [
    "%%time\n",
    "def predict(user, artist):\n",
    "    return sum([user_mat[k][user] * artist_mat[k][artist] for k in range(K)])\n",
    "\n",
    "\n",
    "def modify_prediction(user, artist, prediction):\n",
    "    user_bias = user_medians[user] - global_median\n",
    "    return w*prediction + (1-w)*(artist_meds[artist] + user_bias)\n",
    "\n",
    "def modify_prediction2(user, artist, prediction):\n",
    "    return (1 - weight_user_median)*prediction + weight_user_median*(user_medians[user])\n",
    "\n",
    "def train(data):\n",
    "\n",
    "    for i in range(iterations):\n",
    "        for k in range(K):\n",
    "            user_feature = user_mat[k]\n",
    "            artist_feature = artist_mat[k]\n",
    "\n",
    "            for j, (user, user_data) in enumerate(train_data.iteritems()):\n",
    "                if j % 10000 == 0:\n",
    "                    print \"\\r\", i,k,j,\n",
    "\n",
    "                for artist, plays in user_data.iteritems():\n",
    "                    error = plays - predict(user, artist)\n",
    "                    user_feature[user] += learn_rate * (artist_feature[artist] * error - penalty * user_feature[user])\n",
    "                    artist_feature[artist] += learn_rate * (user_feature[user] * error - penalty * artist_feature[artist])\n",
    "    print user_feature[user]\n",
    "\n",
    "train(train_data)"
   ]
  },
  {
   "cell_type": "code",
   "execution_count": 175,
   "metadata": {
    "collapsed": true
   },
   "outputs": [],
   "source": [
    "def modify_prediction3(user, artist, prediction):\n",
    "    user_bias = user_medians[user] - global_median\n",
    "    return w1*user_medians[user] + w*(artist_meds[artist] + user_bias) + (1 - w - w1)*prediction"
   ]
  },
  {
   "cell_type": "code",
   "execution_count": 176,
   "metadata": {
    "collapsed": false
   },
   "outputs": [],
   "source": [
    "w = 0.3\n",
    "w1 = 0.6\n",
    "weight_user_median = 0.9"
   ]
  },
  {
   "cell_type": "code",
   "execution_count": 177,
   "metadata": {
    "collapsed": false
   },
   "outputs": [
    {
     "name": "stdout",
     "output_type": "stream",
     "text": [
      "190000 Error:  (146.09157283435212, 137.1111012963749, 137.07845895964059)\n",
      "Wall time: 1min 17s\n"
     ]
    }
   ],
   "source": [
    "%%time\n",
    "def calc_error(data):\n",
    "    errors = []\n",
    "    errors2 = []\n",
    "    errors3 = []\n",
    "    pred = 0\n",
    "    for j, (user, user_data) in enumerate(data.iteritems()):\n",
    "        if j % 10000 == 0:\n",
    "            print \"\\r\", j,\n",
    "        for artist, plays in user_data.iteritems():\n",
    "            pred = predict(user,artist)\n",
    "                \n",
    "            newpred = modify_prediction(user,artist,pred)\n",
    "            error = abs(int(plays) - max(0, newpred))\n",
    "            errors.append(error)\n",
    "\n",
    "            newpred2 = modify_prediction2(user,artist,pred)\n",
    "            error2 = abs(int(plays) - max(0, newpred2))\n",
    "            errors2.append(error2)\n",
    "            \n",
    "            newpred3 = modify_prediction3(user,artist,pred)\n",
    "            error3 = abs(int(plays) - max(0, newpred3))\n",
    "            errors3.append(error3)\n",
    "\n",
    "\n",
    "    return (sum(np.array(errors))/len(errors), sum(np.array(errors2))/len(errors2), sum(np.array(errors3))/len(errors3))\n",
    "        \n",
    "error = calc_error(test_data)\n",
    "\n",
    "print \"Error: \", error\n"
   ]
  },
  {
   "cell_type": "code",
   "execution_count": 178,
   "metadata": {
    "collapsed": true
   },
   "outputs": [],
   "source": [
    "def calc_error2(data):\n",
    "    errors2 = []\n",
    "    pred = 0\n",
    "    for j, (user, user_data) in enumerate(data.iteritems()):\n",
    "        if j % 10000 == 0:\n",
    "            print \"\\r\", j,\n",
    "        for artist, plays in user_data.iteritems():\n",
    "            pred = predict(user,artist)\n",
    "                \n",
    "            newpred2 = modify_prediction2(user,artist,pred)\n",
    "            error2 = abs(int(plays) - max(0, newpred2))\n",
    "            errors2.append(error2)\n",
    "\n",
    "\n",
    "    return sum(np.array(errors2))/len(errors2)"
   ]
  },
  {
   "cell_type": "code",
   "execution_count": 179,
   "metadata": {
    "collapsed": true
   },
   "outputs": [],
   "source": [
    "def calc_error13(data):\n",
    "    errors = []\n",
    "    errors3 = []\n",
    "    pred = 0\n",
    "    for j, (user, user_data) in enumerate(data.iteritems()):\n",
    "        if j % 10000 == 0:\n",
    "            print \"\\r\", j,\n",
    "        for artist, plays in user_data.iteritems():\n",
    "            pred = predict(user,artist)\n",
    "                \n",
    "            newpred = modify_prediction(user, artist,pred)\n",
    "            error = abs(int(plays) - max(0, newpred))\n",
    "            errors.append(error)\n",
    "\n",
    "            newpred3 = modify_prediction3(user,artist,pred)\n",
    "            error3 = abs(int(plays) - max(0, newpred3))\n",
    "            errors3.append(error3)\n",
    "\n",
    "\n",
    "    return (sum(np.array(errors))/len(errors), sum(np.array(errors3))/len(errors3))"
   ]
  },
  {
   "cell_type": "code",
   "execution_count": 180,
   "metadata": {
    "collapsed": false
   },
   "outputs": [
    {
     "name": "stdout",
     "output_type": "stream",
     "text": [
      "testing weight_user_median=0.00\n",
      "testing weight_user_median=0.20\n",
      "testing weight_user_median=0.40\n",
      "testing weight_user_median=0.60\n",
      "testing weight_user_median=0.80\n",
      "testing weight_user_median=0.90\n",
      "testing weight_user_median=0.91\n",
      "testing weight_user_median=0.92\n",
      "testing weight_user_median=0.93\n",
      "testing weight_user_median=0.94\n",
      "testing weight_user_median=0.95\n",
      "testing weight_user_median=0.96\n",
      "testing weight_user_median=0.97\n",
      "testing weight_user_median=0.98\n",
      "testing weight_user_median=0.99\n",
      "testing weight_user_median=1.00\n",
      "190000Wall time: 2min 30s\n",
      "\n"
     ]
    }
   ],
   "source": [
    "%%time\n",
    "results2 = dict()\n",
    "weight_user_median_params = np.hstack((np.arange(0, 1, 0.2), np.arange(0.9, 1.01, 0.01)))\n",
    "for param in weight_user_median_params:\n",
    "    print '\\rtesting weight_user_median=%.2f' % param\n",
    "    weight_user_median = param\n",
    "    results2[param] = calc_error2(test_data)"
   ]
  },
  {
   "cell_type": "code",
   "execution_count": 104,
   "metadata": {
    "collapsed": true
   },
   "outputs": [],
   "source": [
    "import itertools"
   ]
  },
  {
   "cell_type": "code",
   "execution_count": 187,
   "metadata": {
    "collapsed": false
   },
   "outputs": [
    {
     "name": "stdout",
     "output_type": "stream",
     "text": [
      "0.95\n",
      "136.850259845\n"
     ]
    }
   ],
   "source": [
    "opt_param_2 = min(results2, key = lambda k : results2[k])\n",
    "print weight_user_median_opt\n",
    "print results2[weight_user_median_opt]"
   ]
  },
  {
   "cell_type": "code",
   "execution_count": 99,
   "metadata": {
    "collapsed": false
   },
   "outputs": [
    {
     "data": {
      "text/plain": [
       "{0.0: 241.14578422142853,\n",
       " 0.10000000000000001: 224.94829780022167,\n",
       " 0.20000000000000001: 208.9143517412499,\n",
       " 0.30000000000000004: 193.24857193901636,\n",
       " 0.40000000000000002: 178.36302798208956,\n",
       " 0.5: 164.90095564633157,\n",
       " 0.60000000000000009: 153.61040156472765,\n",
       " 0.70000000000000007: 145.188481277839,\n",
       " 0.80000000000000004: 139.86952387873768,\n",
       " 0.90000000000000002: 137.38101931056315,\n",
       " 0.91000000000000003: 137.26993288910745,\n",
       " 0.92000000000000004: 137.18309392440844,\n",
       " 0.93000000000000005: 137.1199917084607,\n",
       " 0.94000000000000006: 137.08058595711569,\n",
       " 0.95000000000000007: 137.0644552352037,\n",
       " 0.96000000000000008: 137.0695556148213,\n",
       " 0.97000000000000008: 137.09616449033186,\n",
       " 0.98000000000000009: 137.14445965395086,\n",
       " 0.9900000000000001: 137.21438562894423,\n",
       " 1.0: 137.30438828414103}"
      ]
     },
     "execution_count": 99,
     "metadata": {},
     "output_type": "execute_result"
    }
   ],
   "source": [
    "results2"
   ]
  },
  {
   "cell_type": "code",
   "execution_count": 120,
   "metadata": {
    "collapsed": true
   },
   "outputs": [],
   "source": [
    "%matplotlib inline\n",
    "import matplotlib.pyplot as plt\n",
    "from mpl_toolkits.mplot3d import Axes3D"
   ]
  },
  {
   "cell_type": "code",
   "execution_count": null,
   "metadata": {
    "collapsed": true
   },
   "outputs": [],
   "source": [
    "plt.plot(results2.keys(), results2.values())"
   ]
  },
  {
   "cell_type": "code",
   "execution_count": 182,
   "metadata": {
    "collapsed": false
   },
   "outputs": [
    {
     "name": "stdout",
     "output_type": "stream",
     "text": [
      "testing w=0.10 and w1=0.70\n",
      "testing w=0.15 and w1=0.65\n",
      "testing w=0.20 and w1=0.60\n",
      "testing w=0.25 and w1=0.55\n",
      "testing w=0.30 and w1=0.50\n",
      "testing w=0.40 and w1=0.40\n",
      "testing w=0.50 and w1=0.30\n",
      "testing w=0.60 and w1=0.20\n",
      "testing w=0.10 and w1=0.75\n",
      "testing w=0.15 and w1=0.70\n",
      "testing w=0.20 and w1=0.65\n",
      "testing w=0.25 and w1=0.60\n",
      "testing w=0.30 and w1=0.55\n",
      "testing w=0.40 and w1=0.45\n",
      "testing w=0.50 and w1=0.35\n",
      "testing w=0.60 and w1=0.25\n",
      "testing w=0.10 and w1=0.80\n",
      "testing w=0.15 and w1=0.75\n",
      "testing w=0.20 and w1=0.70\n",
      "testing w=0.25 and w1=0.65\n",
      "testing w=0.30 and w1=0.60\n",
      "testing w=0.40 and w1=0.50\n",
      "testing w=0.50 and w1=0.40\n",
      "testing w=0.60 and w1=0.30\n",
      "testing w=0.10 and w1=0.85\n",
      "testing w=0.15 and w1=0.80\n",
      "testing w=0.20 and w1=0.75\n",
      "testing w=0.25 and w1=0.70\n",
      "testing w=0.30 and w1=0.65\n",
      "testing w=0.40 and w1=0.55\n",
      "testing w=0.50 and w1=0.45\n",
      "testing w=0.60 and w1=0.35\n",
      "testing w=0.10 and w1=0.90\n",
      "testing w=0.15 and w1=0.85\n",
      "testing w=0.20 and w1=0.80\n",
      "testing w=0.25 and w1=0.75\n",
      "testing w=0.30 and w1=0.70\n",
      "testing w=0.40 and w1=0.60\n",
      "testing w=0.50 and w1=0.50\n",
      "testing w=0.60 and w1=0.40\n",
      "190000Wall time: 7min 23s\n",
      "\n"
     ]
    }
   ],
   "source": [
    "%%time\n",
    "results13 = dict()\n",
    "for weight_sum in [0.8, 0.85, 0.9, 0.95, 1]:\n",
    "    for param in [0.1, 0.15, 0.2, 0.25, 0.3, 0.4, 0.5, 0.6]:\n",
    "        w = param\n",
    "        w1 = weight_sum - w\n",
    "        print '\\rtesting w=%.2f and w1=%.2f' % (w, w1)\n",
    "        results13[(w, w1)] = calc_error13(test_data)"
   ]
  },
  {
   "cell_type": "code",
   "execution_count": 186,
   "metadata": {
    "collapsed": false
   },
   "outputs": [],
   "source": [
    "results1 = {k:v[0] for k,v in results13.items()}\n",
    "results3 = {k:v[1] for k,v in results13.items()}"
   ]
  },
  {
   "cell_type": "code",
   "execution_count": 188,
   "metadata": {
    "collapsed": false
   },
   "outputs": [
    {
     "name": "stdout",
     "output_type": "stream",
     "text": [
      "(0.1, 0.7000000000000001)\n"
     ]
    },
    {
     "data": {
      "text/plain": [
       "140.0094723725112"
      ]
     },
     "execution_count": 188,
     "metadata": {},
     "output_type": "execute_result"
    }
   ],
   "source": [
    "opt_param_1 = min(results1, key = lambda k : results1[k])\n",
    "print opt_param_1\n",
    "results1[opt_param_1]"
   ]
  },
  {
   "cell_type": "code",
   "execution_count": 191,
   "metadata": {
    "collapsed": false
   },
   "outputs": [
    {
     "name": "stdout",
     "output_type": "stream",
     "text": [
      "[(0.6, 0.30000000000000004), (0.3, 0.6000000000000001), (0.15, 0.7), (0.5, 0.30000000000000004), (0.25, 0.55), (0.1, 0.7000000000000001), (0.5, 0.5), (0.15, 0.85), (0.4, 0.5), (0.2, 0.8), (0.2, 0.6499999999999999), (0.3, 0.5), (0.1, 0.8), (0.2, 0.75), (0.25, 0.7), (0.3, 0.55), (0.4, 0.5499999999999999), (0.25, 0.65), (0.1, 0.9), (0.25, 0.75), (0.4, 0.4), (0.5, 0.35), (0.6, 0.35), (0.5, 0.44999999999999996), (0.6, 0.4), (0.15, 0.65), (0.15, 0.7999999999999999), (0.6, 0.20000000000000007), (0.3, 0.6499999999999999), (0.1, 0.85), (0.25, 0.6), (0.4, 0.6), (0.4, 0.44999999999999996), (0.5, 0.4), (0.6, 0.25), (0.2, 0.7), (0.3, 0.7), (0.15, 0.75), (0.1, 0.75), (0.2, 0.6000000000000001)]\n"
     ]
    }
   ],
   "source": [
    "print results3.keys()"
   ]
  },
  {
   "cell_type": "code",
   "execution_count": 189,
   "metadata": {
    "collapsed": false
   },
   "outputs": [
    {
     "name": "stdout",
     "output_type": "stream",
     "text": [
      "(0.15, 0.7999999999999999)\n"
     ]
    },
    {
     "data": {
      "text/plain": [
       "136.62257934083038"
      ]
     },
     "execution_count": 189,
     "metadata": {},
     "output_type": "execute_result"
    }
   ],
   "source": [
    "opt_param_3 = min(results3, key = lambda k : results3[k])\n",
    "print opt_param_3\n",
    "results3[opt_param_3]"
   ]
  },
  {
   "cell_type": "code",
   "execution_count": 190,
   "metadata": {
    "collapsed": false
   },
   "outputs": [
    {
     "name": "stdout",
     "output_type": "stream",
     "text": [
      "140.009472373\n",
      "136.850259845\n",
      "136.622579341\n"
     ]
    }
   ],
   "source": [
    "print results1[opt_param_1]\n",
    "print results2[opt_param_2]\n",
    "print results3[opt_param_3]"
   ]
  },
  {
   "cell_type": "code",
   "execution_count": 202,
   "metadata": {
    "collapsed": false
   },
   "outputs": [],
   "source": [
    "params, results = zip(*results3.items())\n",
    "w_vals, w1_vals = zip(*params)"
   ]
  },
  {
   "cell_type": "code",
   "execution_count": 207,
   "metadata": {
    "collapsed": true
   },
   "outputs": [],
   "source": [
    "np.append?"
   ]
  },
  {
   "cell_type": "code",
   "execution_count": 206,
   "metadata": {
    "collapsed": false
   },
   "outputs": [
    {
     "ename": "TypeError",
     "evalue": "unbound method plot_trisurf() must be called with Axes3D instance as first argument (got ndarray instance instead)",
     "output_type": "error",
     "traceback": [
      "\u001b[1;31m---------------------------------------------------------------------------\u001b[0m",
      "\u001b[1;31mTypeError\u001b[0m                                 Traceback (most recent call last)",
      "\u001b[1;32m<ipython-input-206-53495dab2aa3>\u001b[0m in \u001b[0;36m<module>\u001b[1;34m()\u001b[0m\n\u001b[1;32m----> 1\u001b[1;33m \u001b[0mAxes3D\u001b[0m\u001b[1;33m.\u001b[0m\u001b[0mplot_trisurf\u001b[0m\u001b[1;33m(\u001b[0m\u001b[0mnp\u001b[0m\u001b[1;33m.\u001b[0m\u001b[0marray\u001b[0m\u001b[1;33m(\u001b[0m\u001b[0mw_vals\u001b[0m\u001b[1;33m)\u001b[0m\u001b[1;33m,\u001b[0m \u001b[0mnp\u001b[0m\u001b[1;33m.\u001b[0m\u001b[0marray\u001b[0m\u001b[1;33m(\u001b[0m\u001b[0mw1_vals\u001b[0m\u001b[1;33m)\u001b[0m\u001b[1;33m,\u001b[0m \u001b[0mnp\u001b[0m\u001b[1;33m.\u001b[0m\u001b[0marray\u001b[0m\u001b[1;33m(\u001b[0m\u001b[0mresults\u001b[0m\u001b[1;33m)\u001b[0m\u001b[1;33m)\u001b[0m\u001b[1;33m\u001b[0m\u001b[0m\n\u001b[0m",
      "\u001b[1;31mTypeError\u001b[0m: unbound method plot_trisurf() must be called with Axes3D instance as first argument (got ndarray instance instead)"
     ]
    }
   ],
   "source": [
    "Axes3D.plot_trisurf(np.array(w_vals), np.array(w1_vals), np.array(results))"
   ]
  },
  {
   "cell_type": "code",
   "execution_count": 204,
   "metadata": {
    "collapsed": true
   },
   "outputs": [],
   "source": [
    "Axes3D.plot_trisurf?"
   ]
  },
  {
   "cell_type": "code",
   "execution_count": 121,
   "metadata": {
    "collapsed": false
   },
   "outputs": [
    {
     "ename": "TypeError",
     "evalue": "unbound method plot_surface() must be called with Axes3D instance as first argument (got tuple instance instead)",
     "output_type": "error",
     "traceback": [
      "\u001b[1;31m---------------------------------------------------------------------------\u001b[0m",
      "\u001b[1;31mTypeError\u001b[0m                                 Traceback (most recent call last)",
      "\u001b[1;32m<ipython-input-121-04e169e19a60>\u001b[0m in \u001b[0;36m<module>\u001b[1;34m()\u001b[0m\n\u001b[1;32m----> 1\u001b[1;33m \u001b[0mAxes3D\u001b[0m\u001b[1;33m.\u001b[0m\u001b[0mplot_surface\u001b[0m\u001b[1;33m(\u001b[0m\u001b[0mw_vals\u001b[0m\u001b[1;33m,\u001b[0m \u001b[0mw1_vals\u001b[0m\u001b[1;33m,\u001b[0m \u001b[0mresults\u001b[0m\u001b[1;33m)\u001b[0m\u001b[1;33m\u001b[0m\u001b[0m\n\u001b[0m",
      "\u001b[1;31mTypeError\u001b[0m: unbound method plot_surface() must be called with Axes3D instance as first argument (got tuple instance instead)"
     ]
    }
   ],
   "source": [
    "Axes3D.plot_surface(w_vals, w1_vals, results)"
   ]
  },
  {
   "cell_type": "code",
   "execution_count": 123,
   "metadata": {
    "collapsed": false
   },
   "outputs": [
    {
     "data": {
      "text/plain": [
       "[array([[1, 2, 3],\n",
       "        [1, 2, 3],\n",
       "        [1, 2, 3]]), array([[1, 1, 1],\n",
       "        [2, 2, 2],\n",
       "        [3, 3, 3]])]"
      ]
     },
     "execution_count": 123,
     "metadata": {},
     "output_type": "execute_result"
    }
   ],
   "source": [
    "np.meshgrid([1,2,3], [1,2,3])"
   ]
  },
  {
   "cell_type": "code",
   "execution_count": 73,
   "metadata": {
    "collapsed": true
   },
   "outputs": [],
   "source": [
    "import cPickle as pickle"
   ]
  },
  {
   "cell_type": "code",
   "execution_count": 195,
   "metadata": {
    "collapsed": true
   },
   "outputs": [],
   "source": [
    "with open('results2_new.p', 'w') as f:\n",
    "    pickle.dump(results2, f)"
   ]
  },
  {
   "cell_type": "code",
   "execution_count": 196,
   "metadata": {
    "collapsed": true
   },
   "outputs": [],
   "source": [
    "with open('results13_new.p', 'w') as f:\n",
    "    pickle.dump(results13, f)"
   ]
  },
  {
   "cell_type": "code",
   "execution_count": 174,
   "metadata": {
    "collapsed": false
   },
   "outputs": [
    {
     "name": "stdout",
     "output_type": "stream",
     "text": [
      "Wall time: 5min 15s\n"
     ]
    }
   ],
   "source": [
    "%%time\n",
    "with open('user_mat_NEW.p', 'w') as f:\n",
    "    pickle.dump(user_mat, f)\n",
    "with open('artist_mat_NEW.p', 'w') as f:\n",
    "    pickle.dump(artist_mat, f)"
   ]
  },
  {
   "cell_type": "code",
   "execution_count": null,
   "metadata": {
    "collapsed": false
   },
   "outputs": [],
   "source": [
    "params.append([train_size, K, learn_rate, iterations, w, weight_user_median, penalty, error])"
   ]
  },
  {
   "cell_type": "code",
   "execution_count": null,
   "metadata": {
    "collapsed": true
   },
   "outputs": [],
   "source": [
    "print params"
   ]
  },
  {
   "cell_type": "code",
   "execution_count": null,
   "metadata": {
    "collapsed": false
   },
   "outputs": [],
   "source": []
  },
  {
   "cell_type": "code",
   "execution_count": null,
   "metadata": {
    "collapsed": true
   },
   "outputs": [],
   "source": []
  },
  {
   "cell_type": "code",
   "execution_count": 200,
   "metadata": {
    "collapsed": false
   },
   "outputs": [
    {
     "name": "stdout",
     "output_type": "stream",
     "text": [
      "0.15 0.8\n"
     ]
    }
   ],
   "source": [
    "w, w1 = min(results3, key = lambda k : results3[k])\n",
    "print w, w1"
   ]
  },
  {
   "cell_type": "code",
   "execution_count": 201,
   "metadata": {
    "collapsed": false
   },
   "outputs": [
    {
     "name": "stdout",
     "output_type": "stream",
     "text": [
      "4150000Wall time: 3min 20s\n",
      "\n"
     ]
    }
   ],
   "source": [
    "%%time\n",
    "with open(test_file, 'r') as test_fh:\n",
    "    with open('predictions_NEWEST.csv', 'w') as test_output:\n",
    "        test_csv = csv.reader(test_fh, delimiter=',', quotechar='\"')\n",
    "        next(test_csv, None)\n",
    "        writer = csv.writer(test_output)\n",
    "        writer.writerow(('Id', 'plays'))\n",
    "\n",
    "        for i, row in enumerate(test_csv):\n",
    "            if i % 10000 == 0:\n",
    "                print '\\r', i,\n",
    "            pred_id = row[0]\n",
    "            user = row[1]\n",
    "            artist = row[2]\n",
    "            pred = predict(uaser,artist)\n",
    "            newpred3 = modify_prediction3(user,artist,pred)\n",
    "            writer.writerow((pred_id, max(0, newpred3)))"
   ]
  },
  {
   "cell_type": "code",
   "execution_count": null,
   "metadata": {
    "collapsed": true
   },
   "outputs": [],
   "source": []
  }
 ],
 "metadata": {
  "kernelspec": {
   "display_name": "Python 2",
   "language": "python",
   "name": "python2"
  },
  "language_info": {
   "codemirror_mode": {
    "name": "ipython",
    "version": 2
   },
   "file_extension": ".py",
   "mimetype": "text/x-python",
   "name": "python",
   "nbconvert_exporter": "python",
   "pygments_lexer": "ipython2",
   "version": "2.7.10"
  }
 },
 "nbformat": 4,
 "nbformat_minor": 0
}

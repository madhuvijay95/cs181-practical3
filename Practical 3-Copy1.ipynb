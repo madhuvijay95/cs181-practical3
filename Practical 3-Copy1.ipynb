{
 "cells": [
  {
   "cell_type": "code",
   "execution_count": 1,
   "metadata": {
    "collapsed": false
   },
   "outputs": [],
   "source": [
    "#params = []\n",
    "#params.append([\"train_size\", \"K\", \"learn_rate\", \"iterations\", \"w\", \"error\"])"
   ]
  },
  {
   "cell_type": "code",
   "execution_count": 2,
   "metadata": {
    "collapsed": false
   },
   "outputs": [],
   "source": [
    "import numpy as np\n",
    "import csv\n",
    "import math\n",
    "\n",
    "train_file = 'train.csv'\n",
    "test_file  = 'test.csv'\n",
    "soln_file  = 'user_median.csv'\n",
    "\n",
    "train_size = .9\n",
    "K = 5\n",
    "learn_rate = 0.0000001\n",
    "iterations = 5\n",
    "w = .2\n",
    "weight_user_median = .8\n",
    "penalty = .02\n",
    "\n",
    "\n",
    "#load CSV\n",
    "train_data = {}\n",
    "test_data = {}\n",
    "ndata = 0\n",
    "with open(train_file, 'r') as train_fh:\n",
    "    ndata = sum(1 for row in train_fh) - 1\n",
    "    \n",
    "splitting = np.random.binomial(1, train_size, size=ndata)\n"
   ]
  },
  {
   "cell_type": "code",
   "execution_count": 3,
   "metadata": {
    "collapsed": false
   },
   "outputs": [],
   "source": [
    "with open(train_file, 'r') as train_fh:\n",
    "    train_csv = csv.reader(train_fh, delimiter=',', quotechar='\"')\n",
    "    next(train_csv, None)\n",
    "    \n",
    "    for i, row, in enumerate(train_csv):\n",
    "        user   = row[0]\n",
    "        artist = row[1]\n",
    "        plays  = row[2]\n",
    "\n",
    "        if splitting[i]: \n",
    "            if not user in train_data:\n",
    "                train_data[user] = {}\n",
    "            train_data[user][artist] = int(plays)\n",
    "            \n",
    "        else:\n",
    "            if not user in test_data:\n",
    "                test_data[user] = {}\n",
    "\n",
    "            test_data[user][artist] = int(plays)\n",
    "              \n",
    "# Compute the global median and per-user median.\n",
    "plays_array  = []\n",
    "user_medians = {}\n",
    "for user, user_data in train_data.iteritems():\n",
    "    user_plays = []\n",
    "    for artist, plays in user_data.iteritems():\n",
    "        plays_array.append(plays)\n",
    "        user_plays.append(plays)\n",
    "\n",
    "    user_medians[user] = np.median(np.array(user_plays))\n",
    "global_median = np.median(np.array(plays_array))"
   ]
  },
  {
   "cell_type": "code",
   "execution_count": 4,
   "metadata": {
    "collapsed": false
   },
   "outputs": [
    {
     "name": "stdout",
     "output_type": "stream",
     "text": [
      "9 233286\n"
     ]
    }
   ],
   "source": [
    "np.random.rand() = 10\n",
    "\n",
    "user_mat = []\n",
    "artist_mat = []\n",
    "\n",
    "\n",
    "artist_plays = {}\n",
    "for k in range(K):\n",
    "    print \"\\r\", k,\n",
    "    user_mat.append({})\n",
    "    artist_mat.append({})\n",
    "    \n",
    "    for user, user_data in train_data.iteritems():\n",
    "        if not user in user_mat[k]:\n",
    "            user_mat[k][user] = np.random.rand()\n",
    "        for artist, plays in user_data.iteritems():\n",
    "            if not artist in artist_plays:\n",
    "                artist_plays[artist] = []\n",
    "                artist_mat[k][artist] = np.random.rand()\n",
    "            artist_plays[artist].append(plays)\n",
    "\n",
    "print len(user_mat[1])\n"
   ]
  },
  {
   "cell_type": "code",
   "execution_count": null,
   "metadata": {
    "collapsed": true
   },
   "outputs": [],
   "source": []
  },
  {
   "cell_type": "code",
   "execution_count": 5,
   "metadata": {
    "collapsed": false
   },
   "outputs": [],
   "source": [
    "artist_meds = {}\n",
    "for artist in artist_plays.keys():\n",
    "    artist_meds[artist] = np.median(np.array(artist_plays[artist]))\n",
    "\n",
    " "
   ]
  },
  {
   "cell_type": "code",
   "execution_count": 6,
   "metadata": {
    "collapsed": false
   },
   "outputs": [
    {
     "name": "stdout",
     "output_type": "stream",
     "text": [
      "116.0\n"
     ]
    }
   ],
   "source": [
    "i = 10\n",
    "test_artist = artist_plays.keys()[i]\n",
    "\n",
    "print artist_meds[test_artist]\n"
   ]
  },
  {
   "cell_type": "code",
   "execution_count": 16,
   "metadata": {
    "collapsed": false
   },
   "outputs": [
    {
     "data": {
      "text/plain": [
       "[0.01, 0.01, 0.01, 0.01, 0.01, 0.01, 0.01, 0.01, 0.01, 0.01]"
      ]
     },
     "execution_count": 16,
     "metadata": {},
     "output_type": "execute_result"
    }
   ],
   "source": [
    "artist_mat[0][artist_mat[0].keys()[0]]"
   ]
  },
  {
   "cell_type": "code",
   "execution_count": 15,
   "metadata": {
    "collapsed": false
   },
   "outputs": [
    {
     "data": {
      "text/plain": [
       "[0.01, 0.01, 0.01, 0.01, 0.01, 0.01, 0.01, 0.01, 0.01, 0.01]"
      ]
     },
     "execution_count": 15,
     "metadata": {},
     "output_type": "execute_result"
    }
   ],
   "source": [
    "user_mat[0][user_mat[k].keys()[0]]"
   ]
  },
  {
   "cell_type": "code",
   "execution_count": 9,
   "metadata": {
    "collapsed": false
   },
   "outputs": [
    {
     "name": "stdout",
     "output_type": "stream",
     "text": [
      "\r",
      "0 0 <type 'float'>\n",
      "<type 'list'>\n",
      "<type 'int'>\n"
     ]
    },
    {
     "ename": "TypeError",
     "evalue": "can't multiply sequence by non-int of type 'list'",
     "output_type": "error",
     "traceback": [
      "\u001b[1;31m---------------------------------------------------------------------------\u001b[0m",
      "\u001b[1;31mTypeError\u001b[0m                                 Traceback (most recent call last)",
      "\u001b[1;32m<ipython-input-9-aed6e2d3e2dd>\u001b[0m in \u001b[0;36m<module>\u001b[1;34m()\u001b[0m\n\u001b[0;32m     33\u001b[0m     \u001b[1;32mprint\u001b[0m \u001b[0muser_feature\u001b[0m\u001b[1;33m[\u001b[0m\u001b[0muser\u001b[0m\u001b[1;33m]\u001b[0m\u001b[1;33m\u001b[0m\u001b[0m\n\u001b[0;32m     34\u001b[0m \u001b[1;33m\u001b[0m\u001b[0m\n\u001b[1;32m---> 35\u001b[1;33m \u001b[0mtrain\u001b[0m\u001b[1;33m(\u001b[0m\u001b[0mtrain_data\u001b[0m\u001b[1;33m)\u001b[0m\u001b[1;33m\u001b[0m\u001b[0m\n\u001b[0m",
      "\u001b[1;32m<ipython-input-9-aed6e2d3e2dd>\u001b[0m in \u001b[0;36mtrain\u001b[1;34m(data)\u001b[0m\n\u001b[0;32m     27\u001b[0m                     \u001b[1;32mprint\u001b[0m \u001b[0mtype\u001b[0m\u001b[1;33m(\u001b[0m\u001b[0martist_feature\u001b[0m\u001b[1;33m[\u001b[0m\u001b[0martist\u001b[0m\u001b[1;33m]\u001b[0m\u001b[1;33m)\u001b[0m\u001b[1;33m\u001b[0m\u001b[0m\n\u001b[0;32m     28\u001b[0m                     \u001b[1;32mprint\u001b[0m \u001b[0mtype\u001b[0m\u001b[1;33m(\u001b[0m\u001b[0mplays\u001b[0m\u001b[1;33m)\u001b[0m\u001b[1;33m\u001b[0m\u001b[0m\n\u001b[1;32m---> 29\u001b[1;33m                     \u001b[1;32mprint\u001b[0m \u001b[0mtype\u001b[0m\u001b[1;33m(\u001b[0m\u001b[0mpredict\u001b[0m\u001b[1;33m(\u001b[0m\u001b[0muser\u001b[0m\u001b[1;33m,\u001b[0m\u001b[0martist\u001b[0m\u001b[1;33m)\u001b[0m\u001b[1;33m)\u001b[0m\u001b[1;33m\u001b[0m\u001b[0m\n\u001b[0m\u001b[0;32m     30\u001b[0m                     \u001b[1;32mprint\u001b[0m \u001b[1;34m'hello'\u001b[0m\u001b[1;33m\u001b[0m\u001b[0m\n\u001b[0;32m     31\u001b[0m                     \u001b[0muser_feature\u001b[0m\u001b[1;33m[\u001b[0m\u001b[0muser\u001b[0m\u001b[1;33m]\u001b[0m \u001b[1;33m+=\u001b[0m \u001b[0mlearn_rate\u001b[0m \u001b[1;33m*\u001b[0m \u001b[0martist_feature\u001b[0m\u001b[1;33m[\u001b[0m\u001b[0martist\u001b[0m\u001b[1;33m]\u001b[0m \u001b[1;33m*\u001b[0m \u001b[1;33m(\u001b[0m\u001b[0mplays\u001b[0m \u001b[1;33m-\u001b[0m \u001b[0mpredict\u001b[0m\u001b[1;33m(\u001b[0m\u001b[0muser\u001b[0m\u001b[1;33m,\u001b[0m\u001b[0martist\u001b[0m\u001b[1;33m)\u001b[0m\u001b[1;33m)\u001b[0m\u001b[1;33m\u001b[0m\u001b[0m\n",
      "\u001b[1;32m<ipython-input-9-aed6e2d3e2dd>\u001b[0m in \u001b[0;36mpredict\u001b[1;34m(user, artist)\u001b[0m\n\u001b[0;32m      1\u001b[0m \u001b[1;33m\u001b[0m\u001b[0m\n\u001b[0;32m      2\u001b[0m \u001b[1;32mdef\u001b[0m \u001b[0mpredict\u001b[0m\u001b[1;33m(\u001b[0m\u001b[0muser\u001b[0m\u001b[1;33m,\u001b[0m \u001b[0martist\u001b[0m\u001b[1;33m)\u001b[0m\u001b[1;33m:\u001b[0m\u001b[1;33m\u001b[0m\u001b[0m\n\u001b[1;32m----> 3\u001b[1;33m     \u001b[1;32mreturn\u001b[0m \u001b[0msum\u001b[0m\u001b[1;33m(\u001b[0m\u001b[1;33m[\u001b[0m\u001b[0muser_mat\u001b[0m\u001b[1;33m[\u001b[0m\u001b[0mk\u001b[0m\u001b[1;33m]\u001b[0m\u001b[1;33m[\u001b[0m\u001b[0muser\u001b[0m\u001b[1;33m]\u001b[0m \u001b[1;33m*\u001b[0m \u001b[0martist_mat\u001b[0m\u001b[1;33m[\u001b[0m\u001b[0mk\u001b[0m\u001b[1;33m]\u001b[0m\u001b[1;33m[\u001b[0m\u001b[0martist\u001b[0m\u001b[1;33m]\u001b[0m \u001b[1;32mfor\u001b[0m \u001b[0mk\u001b[0m \u001b[1;32min\u001b[0m \u001b[0mrange\u001b[0m\u001b[1;33m(\u001b[0m\u001b[0mK\u001b[0m\u001b[1;33m)\u001b[0m\u001b[1;33m]\u001b[0m\u001b[1;33m)\u001b[0m\u001b[1;33m\u001b[0m\u001b[0m\n\u001b[0m\u001b[0;32m      4\u001b[0m \u001b[1;33m\u001b[0m\u001b[0m\n\u001b[0;32m      5\u001b[0m \u001b[1;33m\u001b[0m\u001b[0m\n",
      "\u001b[1;31mTypeError\u001b[0m: can't multiply sequence by non-int of type 'list'"
     ]
    }
   ],
   "source": [
    "def predict(user, artist):\n",
    "    return sum([user_mat[k][user] * artist_mat[k][artist] for k in range(K)])\n",
    "\n",
    "\n",
    "def modify_prediction(user, artist, prediction):\n",
    "    user_bias = user_medians[user] - global_median\n",
    "    return w*prediction + (1-w)*(artist_meds[artist] + user_bias)\n",
    "\n",
    "def modify_prediction2(user, artist, prediction):\n",
    "    return (1 - weight_user_median)*prediction + weight_user_median*(user_medians[user])\n",
    "\n",
    "def train(data):\n",
    "\n",
    "    for k in range(K):\n",
    "        user_feature = user_mat[k]\n",
    "        artist_feature = artist_mat[k]\n",
    "        \n",
    "        for j, (user, user_data) in enumerate(train_data.iteritems()):\n",
    "            if j % 10000 == 0:\n",
    "                print \"\\r\", j,k,\n",
    "\n",
    "            for artist, plays in user_data.iteritems(): \n",
    "                \n",
    "                for i in range(iterations):\n",
    "                    print type(predict(user, artist))\n",
    "                    user_feature[user] += learn_rate * artist_feature[artist] * (plays - predict(user, artist))\n",
    "                    artist_feature[artist] += learn_rate * user_feature[user] * (plays - predict(user, artist))\n",
    "    print user_feature[user]\n",
    "           \n",
    "train(train_data)"
   ]
  },
  {
   "cell_type": "code",
   "execution_count": null,
   "metadata": {
    "collapsed": false
   },
   "outputs": [],
   "source": [
    "i = 31\n",
    "x = user_feats.keys()[i]\n",
    "print user_feats[x]\n"
   ]
  },
  {
   "cell_type": "code",
   "execution_count": null,
   "metadata": {
    "collapsed": false
   },
   "outputs": [],
   "source": [
    "\n",
    "def calc_error(data):\n",
    "    errors = []\n",
    "    errors2 = []\n",
    "    pred = 0\n",
    "    for j, (user, user_data) in enumerate(data.iteritems()):\n",
    "        if j % 10000 == 0:\n",
    "            print \"\\r\", j,\n",
    "        for artist, plays in user_data.iteritems():\n",
    "            pred = predict_plays(user,artist)\n",
    "                \n",
    "            newpred = modify_prediction(user,artist,pred)\n",
    "            error = abs(int(plays) - newpred)\n",
    "            errors.append(error)\n",
    "\n",
    "            newpred2 = modify_prediction2(user,artist,pred)\n",
    "            error2 = abs(int(plays) - newpred2)\n",
    "            errors2.append(error2)\n",
    "\n",
    "\n",
    "    return (sum(np.array(errors))/len(errors), sum(np.array(errors2))/len(errors2))\n",
    "        \n",
    "error = calc_error(test_data)\n",
    "\n",
    "print \"Error: \", error\n"
   ]
  },
  {
   "cell_type": "code",
   "execution_count": null,
   "metadata": {
    "collapsed": false
   },
   "outputs": [],
   "source": [
    "params.append([train_size, K, learn_rate, iterations, w, weight_user_median, penalty, error])"
   ]
  },
  {
   "cell_type": "code",
   "execution_count": null,
   "metadata": {
    "collapsed": false
   },
   "outputs": [],
   "source": [
    "print params"
   ]
  },
  {
   "cell_type": "code",
   "execution_count": null,
   "metadata": {
    "collapsed": false
   },
   "outputs": [],
   "source": []
  },
  {
   "cell_type": "code",
   "execution_count": null,
   "metadata": {
    "collapsed": true
   },
   "outputs": [],
   "source": []
  }
 ],
 "metadata": {
  "kernelspec": {
   "display_name": "Python 2",
   "language": "python",
   "name": "python2"
  },
  "language_info": {
   "codemirror_mode": {
    "name": "ipython",
    "version": 2
   },
   "file_extension": ".py",
   "mimetype": "text/x-python",
   "name": "python",
   "nbconvert_exporter": "python",
   "pygments_lexer": "ipython2",
   "version": "2.7.10"
  }
 },
 "nbformat": 4,
 "nbformat_minor": 0
}

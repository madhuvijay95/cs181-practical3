{
 "cells": [
  {
   "cell_type": "code",
   "execution_count": 1,
   "metadata": {
    "collapsed": false
   },
   "outputs": [],
   "source": [
    "params = []\n",
    "params.append([\"train_size\", \"K\", \"learn_rate\", \"iterations\", \"w\", \"error\"])"
   ]
  },
  {
   "cell_type": "code",
   "execution_count": 2,
   "metadata": {
    "collapsed": false
   },
   "outputs": [
    {
     "name": "stdout",
     "output_type": "stream",
     "text": [
      "Wall time: 1.95 s\n"
     ]
    }
   ],
   "source": [
    "%%time\n",
    "import numpy as np\n",
    "import csv\n",
    "import math\n",
    "\n",
    "train_file = 'train.csv'\n",
    "test_file  = 'test.csv'\n",
    "soln_file  = 'user_median.csv'\n",
    "profile_file = 'profiles.csv'\n",
    "\n",
    "train_size = .9\n",
    "K = 40\n",
    "learn_rate = 0.0000001\n",
    "iterations = 10\n",
    "w = .1\n",
    "\n",
    "\n",
    "#load CSV\n",
    "train_data = {}\n",
    "test_data = {}\n",
    "ndata = 0\n",
    "with open(train_file, 'r') as train_fh:\n",
    "    ndata = sum(1 for row in train_fh) - 1\n",
    "    \n",
    "splitting = np.random.binomial(1, train_size, size=ndata)\n"
   ]
  },
  {
   "cell_type": "code",
   "execution_count": 3,
   "metadata": {
    "collapsed": false
   },
   "outputs": [
    {
     "name": "stdout",
     "output_type": "stream",
     "text": [
      "Wall time: 33.8 s\n"
     ]
    }
   ],
   "source": [
    "%%time\n",
    "artist_set = set()\n",
    "with open(train_file, 'r') as train_fh:\n",
    "    train_csv = csv.reader(train_fh, delimiter=',', quotechar='\"')\n",
    "    next(train_csv, None)\n",
    "    \n",
    "    for i, row, in enumerate(train_csv):\n",
    "        user   = row[0]\n",
    "        artist = row[1]\n",
    "        artist_set.add(artist)\n",
    "        plays  = row[2]\n",
    "\n",
    "        if splitting[i]: \n",
    "            if not user in train_data:\n",
    "                train_data[user] = {}\n",
    "            train_data[user][artist] = int(plays)\n",
    "            \n",
    "        else:\n",
    "            if not user in test_data:\n",
    "                test_data[user] = {}\n",
    "\n",
    "            test_data[user][artist] = int(plays)\n",
    "              \n",
    "# Compute the global median and per-user median.\n",
    "plays_array  = []\n",
    "user_medians = {}\n",
    "for user, user_data in train_data.iteritems():\n",
    "    user_plays = []\n",
    "    for artist, plays in user_data.iteritems():\n",
    "        plays_array.append(plays)\n",
    "        user_plays.append(plays)\n",
    "\n",
    "    user_medians[user] = np.median(np.array(user_plays))\n",
    "global_median = np.median(np.array(plays_array))"
   ]
  },
  {
   "cell_type": "code",
   "execution_count": 4,
   "metadata": {
    "collapsed": true
   },
   "outputs": [],
   "source": [
    "assert(len(artist_set) == 2000)"
   ]
  },
  {
   "cell_type": "code",
   "execution_count": 5,
   "metadata": {
    "collapsed": false
   },
   "outputs": [
    {
     "name": "stdout",
     "output_type": "stream",
     "text": [
      "Wall time: 972 ms\n"
     ]
    }
   ],
   "source": [
    "%%time\n",
    "with open(profile_file, 'r') as profile_fh:\n",
    "    profile_csv = csv.reader(profile_fh, delimiter=',', quotechar='\"')\n",
    "    next(profile_csv, None)\n",
    "    \n",
    "    for i, row in enumerate(profile_csv):\n",
    "        user = row[0]\n",
    "        if row[1] == 'm':\n",
    "            train_data[user]['m'] = 1\n",
    "        if row[2] != '':\n",
    "            train_data[user][int(row[2])] = 1\n",
    "        if row[3] != '':\n",
    "            train_data[user][row[3]] = 1"
   ]
  },
  {
   "cell_type": "code",
   "execution_count": 6,
   "metadata": {
    "collapsed": false
   },
   "outputs": [
    {
     "name": "stdout",
     "output_type": "stream",
     "text": [
      "Wall time: 4.16 s\n"
     ]
    }
   ],
   "source": [
    "%%time\n",
    "user_feats = {}\n",
    "artist_feats = {}\n",
    "\n",
    "\n",
    "init = np.array(K * [math.sqrt(float(global_median)/K)])\n",
    "\n",
    "artist_plays = {}\n",
    "for user, user_data in train_data.iteritems():\n",
    "    if not user in user_feats:\n",
    "        user_feats[user] = init\n",
    "    for artist, plays in user_data.iteritems():\n",
    "        if not artist in artist_plays:\n",
    "            artist_plays[artist] = []\n",
    "        artist_plays[artist].append(plays)\n",
    "        if not artist in artist_feats:\n",
    "            artist_feats[artist] = init\n",
    " "
   ]
  },
  {
   "cell_type": "code",
   "execution_count": 7,
   "metadata": {
    "collapsed": false
   },
   "outputs": [
    {
     "name": "stdout",
     "output_type": "stream",
     "text": [
      "Wall time: 491 ms\n"
     ]
    }
   ],
   "source": [
    "%%time\n",
    "artist_meds = {}\n",
    "for artist in artist_plays.keys():\n",
    "    artist_meds[artist] = np.median(np.array(artist_plays[artist]))"
   ]
  },
  {
   "cell_type": "code",
   "execution_count": null,
   "metadata": {
    "collapsed": false
   },
   "outputs": [
    {
     "name": "stdout",
     "output_type": "stream",
     "text": [
      "80000 6 "
     ]
    }
   ],
   "source": [
    "%%time\n",
    "def predict_plays(user, artist):\n",
    "    if (not user in user_feats) or (not artist in artist_feats):\n",
    "        return global_median\n",
    "    else:\n",
    "        return np.dot(np.array(user_feats[user]), np.array(artist_feats[artist]))\n",
    "\n",
    "    \n",
    "def modify_prediction(user, artist, prediction):\n",
    "    user_bias = global_median - user_medians[user]\n",
    "    \n",
    "    return w*prediction + (1-w)*user_medians[user]\n",
    "    #return w*prediction + (1-w)*(artist_meds[artist] - user_bias)\n",
    "\n",
    "def train(data):\n",
    "    i = 0\n",
    "    \n",
    "    for k in range(iterations):\n",
    "        for j, (user, user_data) in enumerate(train_data.iteritems()):\n",
    "            if j % 1000 == 0:\n",
    "                print \"\\r\", j,k,\n",
    "\n",
    "            for artist, plays in user_data.iteritems(): \n",
    "                \n",
    "                pred = predict_plays(user,artist)\n",
    "                error = int(plays) - pred\n",
    "\n",
    "                artist_feats[artist] += learn_rate*error*user_feats[user]\n",
    "                user_feats[user] +=  learn_rate*error*artist_feats[artist]  \n",
    "\n",
    "train(train_data)"
   ]
  },
  {
   "cell_type": "code",
   "execution_count": 11,
   "metadata": {
    "collapsed": false
   },
   "outputs": [
    {
     "name": "stdout",
     "output_type": "stream",
     "text": [
      "193000 Error:  141.760017489\n",
      "Wall time: 4.11 s\n"
     ]
    }
   ],
   "source": [
    "%%time\n",
    "def calc_error(data):\n",
    "    errors = []\n",
    "    pred = 0\n",
    "    for j, (user, user_data) in enumerate(data.iteritems()):\n",
    "        if j % 1000 == 0:\n",
    "            print \"\\r\", j,\n",
    "        for artist, plays in user_data.iteritems():\n",
    "            if artist in artist_set:\n",
    "                pred = predict_plays(user,artist)\n",
    "                \n",
    "                newpred = modify_prediction(user,artist,pred)\n",
    "            \n",
    "      \n",
    "                error = abs(int(plays) - newpred)\n",
    "                \n",
    "                errors.append(error)\n",
    "               \n",
    "                \n",
    "    return sum(np.array(errors))/len(errors)\n",
    "                \n",
    "error = calc_error(test_data)\n",
    "\n",
    "print \"Error: \", error\n"
   ]
  },
  {
   "cell_type": "code",
   "execution_count": null,
   "metadata": {
    "collapsed": false
   },
   "outputs": [],
   "source": []
  },
  {
   "cell_type": "code",
   "execution_count": 138,
   "metadata": {
    "collapsed": false
   },
   "outputs": [
    {
     "name": "stdout",
     "output_type": "stream",
     "text": [
      "[['train_size', 'K', 'learn_rate', 'iterations', 'w'], [0.7, 40, 1e-07, 7, 0.6]]\n"
     ]
    }
   ],
   "source": []
  },
  {
   "cell_type": "raw",
   "metadata": {},
   "source": []
  },
  {
   "cell_type": "code",
   "execution_count": null,
   "metadata": {
    "collapsed": true
   },
   "outputs": [],
   "source": [
    "params.append([train_size, K, learn_rate, iterations, w, error])"
   ]
  }
 ],
 "metadata": {
  "kernelspec": {
   "display_name": "Python 2",
   "language": "python",
   "name": "python2"
  },
  "language_info": {
   "codemirror_mode": {
    "name": "ipython",
    "version": 2
   },
   "file_extension": ".py",
   "mimetype": "text/x-python",
   "name": "python",
   "nbconvert_exporter": "python",
   "pygments_lexer": "ipython2",
   "version": "2.7.10"
  }
 },
 "nbformat": 4,
 "nbformat_minor": 0
}

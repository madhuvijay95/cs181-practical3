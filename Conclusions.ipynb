{
 "cells": [
  {
   "cell_type": "code",
   "execution_count": 1,
   "metadata": {
    "collapsed": true
   },
   "outputs": [],
   "source": [
    "%matplotlib inline\n",
    "import matplotlib.pyplot as plt\n",
    "import cPickle as pickle\n",
    "import numpy as np"
   ]
  },
  {
   "cell_type": "code",
   "execution_count": 2,
   "metadata": {
    "collapsed": true
   },
   "outputs": [],
   "source": [
    "results = dict()\n",
    "results['NMF (K=20)'] = 253.01643758251012\n",
    "results['TruncatedSVD (K=50)'] = 245.2730867763147\n",
    "results['SVD (K=10)'] = pickle.load(open('results2.p', 'r'))[0]\n",
    "results['SVD (K=30)'] = pickle.load(open('results2_new.p', 'r'))[0]"
   ]
  },
  {
   "cell_type": "code",
   "execution_count": 3,
   "metadata": {
    "collapsed": true
   },
   "outputs": [],
   "source": [
    "for k, v in results.items():\n",
    "    results[k + '\\n' + '(%.1f)' % v] = v\n",
    "    del results[k]"
   ]
  },
  {
   "cell_type": "code",
   "execution_count": 4,
   "metadata": {
    "collapsed": false
   },
   "outputs": [
    {
     "data": {
      "text/plain": [
       "[('SVD (K=30)\\n(236.6)', 236.5944429333077),\n",
       " ('SVD (K=10)\\n(241.1)', 241.14578422142853),\n",
       " ('TruncatedSVD (K=50)\\n(245.3)', 245.2730867763147),\n",
       " ('NMF (K=20)\\n(253.0)', 253.01643758251012)]"
      ]
     },
     "execution_count": 4,
     "metadata": {},
     "output_type": "execute_result"
    }
   ],
   "source": [
    "results = results.items()\n",
    "results.sort(key = lambda tup : tup[1])\n",
    "results"
   ]
  },
  {
   "cell_type": "code",
   "execution_count": 5,
   "metadata": {
    "collapsed": true
   },
   "outputs": [],
   "source": [
    "models, errors = zip(*results)"
   ]
  },
  {
   "cell_type": "code",
   "execution_count": 6,
   "metadata": {
    "collapsed": false
   },
   "outputs": [
    {
     "data": {
      "image/png": "[encoded data removed]",
      "text/plain": [
       "<matplotlib.figure.Figure at 0xa53deb8>"
      ]
     },
     "metadata": {},
     "output_type": "display_data"
    }
   ],
   "source": [
    "width = 0.5\n",
    "plt.bar(np.arange(len(results)), errors, width, color='r')\n",
    "plt.ylabel('Mean absolute error')\n",
    "plt.title('Errors by model')\n",
    "plt.xticks(np.arange(len(results)) + width/2, models)\n",
    "plt.savefig('model_comparison.png')"
   ]
  },
  {
   "cell_type": "code",
   "execution_count": 7,
   "metadata": {
    "collapsed": true
   },
   "outputs": [],
   "source": [
    "results_SVD = pickle.load(open('results2_new.p', 'r'))"
   ]
  },
  {
   "cell_type": "code",
   "execution_count": 8,
   "metadata": {
    "collapsed": true
   },
   "outputs": [],
   "source": [
    "results_SVD = results_SVD.items()\n",
    "results_SVD.sort(key = lambda tup : tup[0])\n",
    "weights_SVD, errors_SVD = zip(*results_SVD)"
   ]
  },
  {
   "cell_type": "code",
   "execution_count": 10,
   "metadata": {
    "collapsed": false
   },
   "outputs": [
    {
     "data": {
      "image/png": "[encoded data removed]",
      "text/plain": [
       "<matplotlib.figure.Figure at 0xa6069b0>"
      ]
     },
     "metadata": {},
     "output_type": "display_data"
    }
   ],
   "source": [
    "plt.plot(weights_SVD, errors_SVD, '.-')\n",
    "plt.xlabel('Weight on user median')\n",
    "plt.ylabel('Mean absolute error')\n",
    "plt.savefig('SVD_weights.png')"
   ]
  },
  {
   "cell_type": "code",
   "execution_count": 12,
   "metadata": {
    "collapsed": false
   },
   "outputs": [
    {
     "data": {
      "text/plain": [
       "[(0.0, 236.5944429333077),\n",
       " (0.20000000000000001, 205.41887545987586),\n",
       " (0.40000000000000002, 176.0140055522794),\n",
       " (0.60000000000000009, 152.43408169026407),\n",
       " (0.80000000000000004, 139.4211345670341),\n",
       " (0.90000000000000002, 137.1111012963749),\n",
       " (0.91000000000000003, 137.01430053902294),\n",
       " (0.92000000000000004, 136.94029975109606),\n",
       " (0.93000000000000005, 136.88885421548196),\n",
       " (0.94000000000000006, 136.85876865739749),\n",
       " (0.95000000000000007, 136.85025984526044),\n",
       " (0.96000000000000008, 136.86277415702594),\n",
       " (0.97000000000000008, 136.89563862895582),\n",
       " (0.98000000000000009, 136.94833780313181),\n",
       " (0.9900000000000001, 137.02036400758013),\n",
       " (1.0, 137.1113361343933)]"
      ]
     },
     "execution_count": 12,
     "metadata": {},
     "output_type": "execute_result"
    }
   ],
   "source": [
    "results_SVD"
   ]
  }
 ],
 "metadata": {
  "kernelspec": {
   "display_name": "Python 2",
   "language": "python",
   "name": "python2"
  },
  "language_info": {
   "codemirror_mode": {
    "name": "ipython",
    "version": 2
   },
   "file_extension": ".py",
   "mimetype": "text/x-python",
   "name": "python",
   "nbconvert_exporter": "python",
   "pygments_lexer": "ipython2",
   "version": "2.7.10"
  }
 },
 "nbformat": 4,
 "nbformat_minor": 0
}
